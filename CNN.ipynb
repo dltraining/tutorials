{
 "cells": [
  {
   "cell_type": "markdown",
   "id": "7467bcd4",
   "metadata": {},
   "source": [
    "# Convolutional Neural Networks\n"
   ]
  },
  {
   "cell_type": "markdown",
   "id": "257a585c",
   "metadata": {},
   "source": [
    "Convolutional Neural Networks (CNNs) are modifications to the original FFN design, while traditionally FFNs will take in all features to be processed, CNNs can restrict the amount of features that are processed at one time through the use of a spatial (or temporal) kernel. \n",
    "\n",
    "For 1D CNNs, for instance audio, you'll apply the same set of CNN filters at each of the timesteps of the audio. CNNs have a kernel size, which allow them to take neighboring datapoints into account when they are applied. Similarly for 2D CNNs, this means applying the same CNN filters to each pixel of the image. 2D kernels will take surrounding pixels (horizontal and vertical) into input as well.\n",
    "\n",
    "CNNs are better able to deal with sequences of data, in the sense that convolutions can allow the network to take information along a sequence into account, and through stacking CNNs with elements like max pooling eventually be able to have access to the entire sequence into context."
   ]
  },
  {
   "cell_type": "markdown",
   "id": "609c6d98",
   "metadata": {},
   "source": [
    "#### Overview of a 1D CNN module.\n",
    "\n",
    "![](images/conv1d.png)\n",
    "\n",
    "Here a 2 channel, kernel-size 3, CNN is applied to an input of batch size 4, channel size 3, and length 4. First padding elements (grey) are added to the input, and we apply the CNN (center) to each of the timesteps of the input. The process shown for our first segment is shown in blue, and is repeated across all timesteps to build our complete output. \n",
    "\n",
    "For normal 1D CNNs all channels in the input are used for a given timestep, and the number of input channels must be specified, this is why our CNN consists of a width of 2 (for output channels), height of 4 (for our input channels), and length of 3 (for our kernel width).\n"
   ]
  },
  {
   "cell_type": "markdown",
   "id": "e8e665b1",
   "metadata": {},
   "source": [
    "# Components of a CNN system"
   ]
  },
  {
   "cell_type": "markdown",
   "id": "5b5d7d39",
   "metadata": {},
   "source": [
    "## CNN Kernel Size\n",
    "\n",
    "Like FFNs, CNNs have a set of weights that can be updated and used to learn the task at hand. 1D CNNs are applied, similarly to FFNs, across all input features (in the case of a text classification task, this usually means the embedding dimension of your text). Unlike FFNs, however, CNNs have a 'width' to them which corresponds to their kernel-size. For the same type of a problem, a CNN with kernel size, $k$, will have $k \\times$ as many weights as a FFN being applied to the same task, thus it is somewhat more computationally complex. \n",
    "\n",
    "Because kernels are generally centered at a time step, odd number sizes of kernels ($3$, $5$, and $7$ are common values) are used to ensure that the convolution is not lopsided.\n",
    "\n",
    "Let's look at how to setup a basic CNN and experiment with different kernel sizes:"
   ]
  },
  {
   "cell_type": "code",
   "execution_count": 13,
   "id": "f192313d",
   "metadata": {},
   "outputs": [
    {
     "name": "stdout",
     "output_type": "stream",
     "text": [
      "CNN input/output dimensions:[N,C,L] --> N (Batch), C (Channel), L (Length)\n",
      "With a size 3 kernel\n",
      "Input tensor has shape: torch.Size([2, 3, 5])\n",
      "Output tensor has shape: torch.Size([2, 5, 3])\n",
      "With a size 5 kernel\n",
      "Input tensor has shape: torch.Size([2, 3, 5])\n",
      "Output tensor has shape: torch.Size([2, 5, 1])\n"
     ]
    }
   ],
   "source": [
    "import torch, torchtext\n",
    "from torch import nn, Tensor\n",
    "\n",
    "print(\"CNN input/output dimensions:[N,C,L] --> N (Batch), C (Channel), L (Length)\")\n",
    "input_size = 3\n",
    "number_of_cnn_filters = 5 # number of channels in the output\n",
    "\n",
    "example_cnn_kernel3 = nn.Conv1d(input_size,number_of_cnn_filters,3)\n",
    "x = torch.randn(2,3,5)\n",
    "\n",
    "\n",
    "print(\"With a size 3 kernel\")\n",
    "print(\"Input tensor has shape: {}\".format(x.shape))\n",
    "out = example_cnn_kernel3(x)\n",
    "print(\"Output tensor has shape: {}\".format(out.shape))\n",
    "\n",
    "example_cnn_kernel5 = nn.Conv1d(input_size,number_of_cnn_filters,5)\n",
    "\n",
    "print(\"With a size 5 kernel\")\n",
    "print(\"Input tensor has shape: {}\".format(x.shape))\n",
    "out = example_cnn_kernel5(x)\n",
    "print(\"Output tensor has shape: {}\".format(out.shape))\n"
   ]
  },
  {
   "cell_type": "markdown",
   "id": "9854ff48",
   "metadata": {},
   "source": [
    "In our both cases the Batch dimension (usually written as $N$) doesn't change, but our channel dimension ($C$, and usually corresponding to the hidden $H$ or embedding $E$ dimension in other layers), is set to the number of CNN filters in our layer (1 filter = 1 output channel). The last dimension, our length $L$ dimension, however, decreases depending on our kernel size. (You can experiment with this yourself, what happens if you set the kernel size > the length?)  "
   ]
  },
  {
   "cell_type": "markdown",
   "id": "16086fd1",
   "metadata": {},
   "source": [
    "## Padding\n",
    "\n",
    "To account for differences in input size, and allow for consistent sizes as data is passed through a CNN model, padding, $0$ valued cells, can be added to the front and the back of the input. This allows a CNN to apply to the very first value in an input sequence, without shortening the output length. For simple models (with odd-number kernel sizes), picking a padding size, $p$, such that $p = \\frac{k - 1}{2}$ can ensure a consistent size through a CNN layer."
   ]
  },
  {
   "cell_type": "code",
   "execution_count": 14,
   "id": "a9529c11",
   "metadata": {},
   "outputs": [
    {
     "name": "stdout",
     "output_type": "stream",
     "text": [
      "CNN input/output dimensions:[N,C,L] --> N (Batch), C (Channel), L (Length)\n",
      "With a size 5 kernel and padding = 2\n",
      "Input tensor has shape: torch.Size([2, 3, 5])\n",
      "Output tensor has shape: torch.Size([2, 5, 5])\n"
     ]
    }
   ],
   "source": [
    "print(\"CNN input/output dimensions:[N,C,L] --> N (Batch), C (Channel), L (Length)\")\n",
    "\n",
    "input_size = 3\n",
    "number_of_cnn_filters = 5 # number of channels in the output\n",
    "\n",
    "example_cnn_with_padding = nn.Conv1d(input_size,number_of_cnn_filters,5, padding =2)\n",
    "x = torch.randn(2,3,5)\n",
    "\n",
    "print(\"With a size 5 kernel and padding = 2\")\n",
    "print(\"Input tensor has shape: {}\".format(x.shape))\n",
    "out = example_cnn_with_padding(x)\n",
    "print(\"Output tensor has shape: {}\".format(out.shape))\n"
   ]
  },
  {
   "cell_type": "markdown",
   "id": "c35b77f9",
   "metadata": {},
   "source": [
    "## Pooling\n",
    "\n",
    "Finally, while a kernel size of the CNN allows for the model to learn spatial or temporal aspects of the input, often time for convenience a layer is added to the model to take a only a portion of 'most useful' samples from one layer of the model to the next. One way to do this is through a *Max Pooling* layer, which chunks up data, and only passes the largest value in each chunk to the next layer. This is an easy way to dramatically decrease the size of the input from one layer to the next, speeding up processing time while further highlighting the most important features in the data. Similarly, *Average Pooling* can be used to take the average of a chunk of data."
   ]
  },
  {
   "cell_type": "code",
   "execution_count": 16,
   "id": "7ae56851",
   "metadata": {},
   "outputs": [
    {
     "name": "stdout",
     "output_type": "stream",
     "text": [
      "CNN input/output dimensions:[N,C,L] --> N (Batch), C (Channel), L (Length)\n",
      "With a size 5 kernel and padding = 2\n",
      "Input tensor has shape: torch.Size([2, 3, 20])\n",
      "Output tensor from CNN has shape: torch.Size([2, 5, 20])\n",
      "Output tensor from Pooling has shape: torch.Size([2, 5, 10])\n"
     ]
    }
   ],
   "source": [
    "print(\"CNN input/output dimensions:[N,C,L] --> N (Batch), C (Channel), L (Length)\")\n",
    "\n",
    "input_size = 3\n",
    "number_of_cnn_filters = 5 # number of channels in the output\n",
    "\n",
    "example_cnn_with_padding = nn.Conv1d(input_size,number_of_cnn_filters,3, padding =1)\n",
    "example_max_pool = nn.MaxPool1d(2)  # Pooling Kernel = 2 means we HALVE the length\n",
    "x = torch.randn(2,3,20)\n",
    "\n",
    "print(\"With a size 5 kernel and padding = 2\")\n",
    "print(\"Input tensor has shape: {}\".format(x.shape))\n",
    "out = example_cnn_with_padding(x)\n",
    "print(\"Output tensor from CNN has shape: {}\".format(out.shape))\n",
    "out = example_max_pool(out)\n",
    "print(\"Output tensor from Pooling has shape: {}\".format(out.shape))"
   ]
  },
  {
   "cell_type": "markdown",
   "id": "826996d6",
   "metadata": {},
   "source": [
    "Finally a handy variant of normal max pooling is AdaptivePooling, which can be used to compress an input into a fixed number of outputs, regardless of what the input length is. This is handy at the end of a model to shrink all the timesteps down to a single point (which can then be fed to a linear layer to project to your output classfication)."
   ]
  },
  {
   "cell_type": "code",
   "execution_count": 21,
   "id": "b2a6de33",
   "metadata": {},
   "outputs": [
    {
     "name": "stdout",
     "output_type": "stream",
     "text": [
      "CNN input/output dimensions:[N,C,L] --> N (Batch), C (Channel), L (Length)\n",
      "With a size 5 kernel and padding = 2\n",
      "Input tensor has shape: torch.Size([2, 3, 20])\n",
      "Output tensor from CNN has shape: torch.Size([2, 5, 20])\n",
      "Output tensor from Pooling has shape: torch.Size([2, 5, 1])\n",
      "Final size after dropping L dimension: torch.Size([2, 5])\n"
     ]
    }
   ],
   "source": [
    "print(\"CNN input/output dimensions:[N,C,L] --> N (Batch), C (Channel), L (Length)\")\n",
    "\n",
    "input_size = 3\n",
    "number_of_cnn_filters = 5 # number of channels in the output\n",
    "\n",
    "example_cnn_with_padding = nn.Conv1d(input_size,number_of_cnn_filters,3, padding =1)\n",
    "example_adaptive_pool = nn.AdaptiveMaxPool1d(1)  # Squish into one timestep, taking highest value for each channel.\n",
    "x = torch.randn(2,3,20)\n",
    "\n",
    "print(\"With a size 5 kernel and padding = 2\")\n",
    "print(\"Input tensor has shape: {}\".format(x.shape))\n",
    "out = example_cnn_with_padding(x)\n",
    "print(\"Output tensor from CNN has shape: {}\".format(out.shape))\n",
    "out = example_adaptive_pool(out)\n",
    "print(\"Output tensor from Pooling has shape: {}\".format(out.shape))\n",
    "\n",
    "out = out.squeeze()\n",
    "print(\"Final size after dropping L dimension: {}\".format(out.shape))"
   ]
  },
  {
   "cell_type": "markdown",
   "id": "2b0e23f3",
   "metadata": {},
   "source": [
    "# Classification Task Movie Reviews"
   ]
  },
  {
   "cell_type": "markdown",
   "id": "636d5e8f",
   "metadata": {},
   "source": [
    "With the basics of these CNN layers, we can tackle a slightly more complex challenge compared to the single sentence classification task. In this task, we'll use the CNN to capture meaning across a length of tokens in our input paragraph. We'll be looking at IMDB movie reviews, again classifying into positive and negative examples."
   ]
  },
  {
   "cell_type": "code",
   "execution_count": 26,
   "id": "cbea632d",
   "metadata": {},
   "outputs": [
    {
     "name": "stdout",
     "output_type": "stream",
     "text": [
      "cuda\n"
     ]
    }
   ],
   "source": [
    "import torch, torchtext\n",
    "from torch import nn, Tensor\n",
    "from torchtext.datasets import IMDB\n",
    "from torchtext.data import to_map_style_dataset\n",
    "from torchtext.vocab import build_vocab_from_iterator\n",
    "from torchtext.data.utils import get_tokenizer\n",
    "from torch.utils.data import dataset, random_split\n",
    "\n",
    "device = \"cuda\" if torch.cuda.is_available() else \"cpu\"\n",
    "print(device)"
   ]
  },
  {
   "cell_type": "markdown",
   "id": "1d3b30c7",
   "metadata": {},
   "source": [
    "Now let's get our dataset:"
   ]
  },
  {
   "cell_type": "code",
   "execution_count": 27,
   "id": "0fd97763",
   "metadata": {},
   "outputs": [],
   "source": [
    "IMDB_train = IMDB(split=\"train\")\n",
    "IMDB_train = to_map_style_dataset(IMDB_train)\n",
    "IMDB_train, IMDB_dev = random_split(IMDB_train, [15000,10000])\n"
   ]
  },
  {
   "cell_type": "markdown",
   "id": "55e538ef",
   "metadata": {},
   "source": [
    "To look at an example:"
   ]
  },
  {
   "cell_type": "code",
   "execution_count": 29,
   "id": "6a3e0f19",
   "metadata": {},
   "outputs": [
    {
     "name": "stdout",
     "output_type": "stream",
     "text": [
      "('pos', 'This is a very funny movie, easy to watch, that entertains you almost all the time. The work of the Director is recognizable and the type of humor is his trademark. The movie is a typical police partners history like lethal weapon, but the jokes and comedy are of Argentinian sort. The twist is that one of them is a psychologist played by Peretti and has to go with detective Diaz (played by Luque) on his assignments while he also assist him (Diaz is troubled because his wife cheated on him). Some of the dialogs are hilarious worldwide: understandable and laughable anywhere. Is very good overall, it would deserved an 8, but I rated 7 because it gets a little down at the end. On a personal remark I must add that is a \"bravo\" for Argentinian Filmmakers, considering the little good is coming lately.')\n"
     ]
    }
   ],
   "source": [
    "for i in IMDB_train:\n",
    "    print(i)\n",
    "    break"
   ]
  },
  {
   "cell_type": "markdown",
   "id": "f1e4f954",
   "metadata": {},
   "source": [
    "Let's get the vocabulary of our train set, that way we can easily assign tokens to IDs and vice versa."
   ]
  },
  {
   "cell_type": "code",
   "execution_count": 31,
   "id": "e3a4607d",
   "metadata": {},
   "outputs": [],
   "source": [
    "tokenizer = get_tokenizer('basic_english')\n",
    "vocab = build_vocab_from_iterator(map(lambda x: tokenizer(x[1]), IMDB_train), min_freq=5, specials=['<unk>','<pad>'])\n",
    "vocab.set_default_index(vocab['<unk>'])"
   ]
  },
  {
   "cell_type": "markdown",
   "id": "8108a65c",
   "metadata": {},
   "source": [
    "We want to break the full sentence into individual word tokens, and get them in a format our model can handle, here is a basic way to do it:"
   ]
  },
  {
   "cell_type": "code",
   "execution_count": 32,
   "id": "86338f42",
   "metadata": {},
   "outputs": [],
   "source": [
    "from typing import List, Optional, Any, Union\n",
    "\n",
    "class default_tokenizer(nn.Module):\n",
    "    def __init__(self, tokenizer):\n",
    "        super().__init__()\n",
    "        self.tokenizer = tokenizer\n",
    "\n",
    "    def forward(self, input: Any) -> Any:\n",
    "        if torch.jit.isinstance(input, List[str]):\n",
    "            tokens: List[List[str]] = []\n",
    "            for text in input:\n",
    "                tokens.append(self.tokenizer(text))\n",
    "            return tokens\n",
    "        elif torch.jit.isinstance(input, str):\n",
    "            return self.tokenizer(input)\n",
    "        else:\n",
    "            raise TypeError(\"Input type not supported\")\n",
    "         "
   ]
  },
  {
   "cell_type": "code",
   "execution_count": 33,
   "id": "bfb4e327",
   "metadata": {},
   "outputs": [
    {
     "data": {
      "text/plain": [
       "23317"
      ]
     },
     "execution_count": 33,
     "metadata": {},
     "output_type": "execute_result"
    }
   ],
   "source": [
    "len(vocab)"
   ]
  },
  {
   "cell_type": "markdown",
   "id": "e18f08d6",
   "metadata": {},
   "source": [
    "For our text processing, we will use torchtext's Transforms to apply the tokenization and mapping to ID in sequence."
   ]
  },
  {
   "cell_type": "code",
   "execution_count": 41,
   "id": "10c4cb79",
   "metadata": {},
   "outputs": [],
   "source": [
    "import torchtext.transforms as T\n",
    "\n",
    "processor = T.Sequential(\n",
    "    default_tokenizer(tokenizer),\n",
    "    T.VocabTransform(vocab),\n",
    "    )\n",
    "label_processor = T.LabelToIndex(['pos','neg'] )"
   ]
  },
  {
   "cell_type": "code",
   "execution_count": 42,
   "id": "8d008484",
   "metadata": {},
   "outputs": [],
   "source": [
    "from torch.utils.data import DataLoader\n",
    "from torch.nn.utils.rnn import pad_sequence\n",
    "\n",
    "def collate_batch(batch):\n",
    "    label_list, text_list = [], []\n",
    "    for (_label, _text) in batch:\n",
    "        label_list.append(label_processor(_label))\n",
    "        processed_text = torch.tensor(processor(_text))\n",
    "        text_list.append(processed_text)\n",
    "    return torch.tensor(label_list), pad_sequence(text_list, padding_value=vocab.__getitem__(\"<pad>\"))\n",
    "\n",
    "\n",
    "train_dataloader = DataLoader(list(IMDB_train), batch_size=16, shuffle=True, \n",
    "                              collate_fn=collate_batch)\n",
    "dev_dataloader = DataLoader(list(IMDB_dev), batch_size=16, shuffle=False, \n",
    "                              collate_fn=collate_batch)"
   ]
  },
  {
   "cell_type": "markdown",
   "id": "5f57c49a",
   "metadata": {},
   "source": [
    "Let's look at what a processed example looks like. Note the padding (token ID=1) in our second tensor. While our Labels are just a 1d tensor, our input text is a 2D tensor, with dimensions [L,N] (length corresponding to rows, batch corresponding to columns (so one sentence per column from top to bottom), this is why there are so many 1s towards the bottom rows of the tensor, they are all the padded parts of the short sentences."
   ]
  },
  {
   "cell_type": "code",
   "execution_count": 43,
   "id": "4a3764aa",
   "metadata": {},
   "outputs": [
    {
     "name": "stdout",
     "output_type": "stream",
     "text": [
      "(tensor([1, 0, 1, 1, 1, 1, 1, 1, 0, 1, 0, 0, 0, 0, 0, 0]), tensor([[  14,  263,  107,  ..., 1755, 1322,   13],\n",
      "        [  52,   72,   23,  ...,   76,    0,   96],\n",
      "        [   2,  115,   69,  ...,    8,   52,    9],\n",
      "        ...,\n",
      "        [   1,    1,    1,  ...,    1,    1,    1],\n",
      "        [   1,    1,    1,  ...,    1,    1,    1],\n",
      "        [   1,    1,    1,  ...,    1,    1,    1]]))\n"
     ]
    }
   ],
   "source": [
    "for i in train_dataloader:\n",
    "    print(i)\n",
    "    break"
   ]
  },
  {
   "cell_type": "markdown",
   "id": "ba18d532",
   "metadata": {},
   "source": [
    "Let's re-use our training code from earlier:"
   ]
  },
  {
   "cell_type": "code",
   "execution_count": 44,
   "id": "6bb2a9c3",
   "metadata": {},
   "outputs": [],
   "source": [
    "from sklearn.metrics import accuracy_score \n",
    "\n",
    "def train(loader, model, criterion, optimizer, device):\n",
    "    total_loss = 0.0\n",
    "    num_sample = 0\n",
    "    for batch in loader:\n",
    "        # load the current batch\n",
    "        batch_output, batch_input = batch  #unpack the batch\n",
    "\n",
    "        batch_input = batch_input.to(device)\n",
    "        batch_output = batch_output.to(device)\n",
    "        # forward propagation\n",
    "        # pass the data through the model\n",
    "        model_outputs = model(batch_input)\n",
    "        # compute the loss\n",
    "        cur_loss = criterion(model_outputs, batch_output)\n",
    "        total_loss += cur_loss.item()\n",
    "\n",
    "        # backward propagation (compute the gradients and update the model)\n",
    "        # clear the buffer\n",
    "        optimizer.zero_grad()\n",
    "        # compute the gradients\n",
    "        cur_loss.backward()\n",
    "        # update the weights\n",
    "        optimizer.step()\n",
    "        num_sample += batch_output.shape[0]\n",
    "    return total_loss / num_sample\n",
    "\n",
    "\n",
    "# evaluation logic based on classification accuracy\n",
    "def evaluate(loader, model, device):\n",
    "    all_pred = []\n",
    "    all_label = []\n",
    "    with torch.no_grad():\n",
    "        for batch in loader:\n",
    "            # load the current batch\n",
    "            batch_output, batch_input = batch\n",
    "\n",
    "            batch_input = batch_input.to(device)\n",
    "            # forward propagation\n",
    "            # pass the data through the model\n",
    "            model_outputs = model(batch_input)\n",
    "            # identify the predicted class for each example in the batch\n",
    "            probabilities, predicted = torch.max(model_outputs.cpu().data, 1)\n",
    "            # put all the true labels and predictions to two lists\n",
    "            all_pred.extend(predicted)\n",
    "            all_label.extend(batch_output)\n",
    "\n",
    "    accuracy = accuracy_score(all_label, all_pred)\n",
    "    return accuracy\n"
   ]
  },
  {
   "cell_type": "markdown",
   "id": "d51d5d90",
   "metadata": {},
   "source": [
    "Our model definition. I also make some helper functions (PermuteModule and SqueezeModule) to make the forward pass simple. These helper modules just apply their respective functions when they are chained in the ModuleList."
   ]
  },
  {
   "cell_type": "code",
   "execution_count": 45,
   "id": "ce395ec8",
   "metadata": {},
   "outputs": [],
   "source": [
    "## HELPER MODULES\n",
    "class PermuteModule(nn.Module):\n",
    "    ## APPLY PERMUTE WHEN USED IN A MODULELIST\n",
    "    def __init__(self, dims):\n",
    "        super(PermuteModule, self).__init__()\n",
    "        self.dims = dims\n",
    "    def forward(self, x):\n",
    "        return torch.permute(x, self.dims)\n",
    "\n",
    "class SqueezeModule(nn.Module):\n",
    "    ## APPLY SQUEEZE WHEN USED IN A MODULELIST\n",
    "    def __init__(self, dims=None):\n",
    "        super(SqueezeModule, self).__init__()\n",
    "    \n",
    "    def forward(self, x):\n",
    "        return x.squeeze()\n",
    "    \n",
    "    \n",
    "class ConvNet(nn.Module):\n",
    "    def __init__(self, output_size, layers, channels, kernel_size, vocab_size, embedding_size, dropout):\n",
    "        super(ConvNet, self).__init__()\n",
    "        '''\n",
    "        output_size: Number of classes in a classification task\n",
    "        layers: How many CNN layers to apply\n",
    "        channels: Number of filters for each CNN to use\n",
    "        kernel_size: width of the 1 Dimensional CNN kernel (each channel will take in this much width when creating an output point)\n",
    "        vocab_size: the number of tokens in our vocabulary\n",
    "        embedding_size: the number of dimensions to represent each token\n",
    "        dropout: regularization probability.\n",
    "        '''        \n",
    "        \n",
    "        self.layers = nn.ModuleList()  # Keep track of our layers\n",
    "        self.nonlinear = nn.ReLU()     # Non-linear activation \n",
    "        self.dropout = nn.Dropout(p=dropout)     #  Dropout helps the network generalize to unseen data\n",
    "        self.pooling = nn.MaxPool1d(kernel_size=2)   # Our pooling operation, here we divide the length in half each time.\n",
    "        self.layers.append(PermuteModule((1,0)))\n",
    "        self.layers.append(nn.Embedding(vocab_size, embedding_size, padding_idx=vocab.__getitem__(\"<pad>\")))  # Convert input vocab indices to vectors (doesn't compress L dimension like EmbeddingBag)\n",
    "        self.layers.append(PermuteModule((0,2,1)))\n",
    "\n",
    "        self.layers.append(nn.Conv1d(embedding_size, channels, kernel_size))   #  Basic CNN \n",
    "        self.layers.append(self.nonlinear)\n",
    "        for layer in range(layers):    # For each layer, add a Linear, nonlinear activation, and dropout.\n",
    "            self.layers.append(nn.Conv1d(channels, channels, kernel_size))\n",
    "            self.layers.append(self.nonlinear)\n",
    "            self.layers.append(self.pooling)\n",
    "            self.layers.append(self.dropout)\n",
    "        self.layers.append(nn.AdaptiveMaxPool1d(1))   # Collapse the time dimension\n",
    "        self.layers.append(SqueezeModule())   # get rid of collapsed dimension\n",
    "        self.layers.append(nn.Linear(channels, output_size))  # Project to output size\n",
    "        self.layers.append(nn.Softmax(dim=-1))   # Softmax normalizes vectors so they can represent probabilities\n",
    "    \n",
    "    def forward(self, x):    # out 'foward' pass, since we put everything into a ModuleList, we just iterate it.\n",
    "        for layer in self.layers:\n",
    "            x = layer(x)\n",
    "        return x"
   ]
  },
  {
   "cell_type": "code",
   "execution_count": 47,
   "id": "7ba8fbc5",
   "metadata": {},
   "outputs": [],
   "source": [
    "model = ConvNet(2, 2, 128, 3, len(vocab), 128, .3)\n",
    "model.to(device)\n",
    "optimizer = torch.optim.SGD(model.parameters(), lr=0.01)\n",
    "criteria = nn.CrossEntropyLoss()\n",
    "device = \"cuda\" if torch.cuda.is_available() else \"cpu\"\n",
    "max_epochs = 30\n"
   ]
  },
  {
   "cell_type": "markdown",
   "id": "70cbca63",
   "metadata": {},
   "source": [
    "Before we train, let's look a little bit more at our model:"
   ]
  },
  {
   "cell_type": "code",
   "execution_count": 49,
   "id": "7899bc84",
   "metadata": {},
   "outputs": [
    {
     "name": "stdout",
     "output_type": "stream",
     "text": [
      "The entire model looks like this: \n",
      "ConvNet(\n",
      "  (layers): ModuleList(\n",
      "    (0): PermuteModule()\n",
      "    (1): Embedding(23317, 128, padding_idx=1)\n",
      "    (2): PermuteModule()\n",
      "    (3): Conv1d(128, 128, kernel_size=(3,), stride=(1,))\n",
      "    (4): ReLU()\n",
      "    (5): Conv1d(128, 128, kernel_size=(3,), stride=(1,))\n",
      "    (6): ReLU()\n",
      "    (7): MaxPool1d(kernel_size=2, stride=2, padding=0, dilation=1, ceil_mode=False)\n",
      "    (8): Dropout(p=0.3, inplace=False)\n",
      "    (9): Conv1d(128, 128, kernel_size=(3,), stride=(1,))\n",
      "    (10): ReLU()\n",
      "    (11): MaxPool1d(kernel_size=2, stride=2, padding=0, dilation=1, ceil_mode=False)\n",
      "    (12): Dropout(p=0.3, inplace=False)\n",
      "    (13): AdaptiveMaxPool1d(output_size=1)\n",
      "    (14): SqueezeModule()\n",
      "    (15): Linear(in_features=128, out_features=2, bias=True)\n",
      "    (16): Softmax(dim=-1)\n",
      "  )\n",
      "  (nonlinear): ReLU()\n",
      "  (dropout): Dropout(p=0.3, inplace=False)\n",
      "  (pooling): MaxPool1d(kernel_size=2, stride=2, padding=0, dilation=1, ceil_mode=False)\n",
      ")\n",
      "If we just wanted to look at the ModuleList, we could just print it out as well (these are the sequence of layers) \n",
      "ModuleList(\n",
      "  (0): PermuteModule()\n",
      "  (1): Embedding(23317, 128, padding_idx=1)\n",
      "  (2): PermuteModule()\n",
      "  (3): Conv1d(128, 128, kernel_size=(3,), stride=(1,))\n",
      "  (4): ReLU()\n",
      "  (5): Conv1d(128, 128, kernel_size=(3,), stride=(1,))\n",
      "  (6): ReLU()\n",
      "  (7): MaxPool1d(kernel_size=2, stride=2, padding=0, dilation=1, ceil_mode=False)\n",
      "  (8): Dropout(p=0.3, inplace=False)\n",
      "  (9): Conv1d(128, 128, kernel_size=(3,), stride=(1,))\n",
      "  (10): ReLU()\n",
      "  (11): MaxPool1d(kernel_size=2, stride=2, padding=0, dilation=1, ceil_mode=False)\n",
      "  (12): Dropout(p=0.3, inplace=False)\n",
      "  (13): AdaptiveMaxPool1d(output_size=1)\n",
      "  (14): SqueezeModule()\n",
      "  (15): Linear(in_features=128, out_features=2, bias=True)\n",
      "  (16): Softmax(dim=-1)\n",
      ")\n"
     ]
    }
   ],
   "source": [
    "print(\"The entire model looks like this: \")\n",
    "print(model)\n",
    "print(\"If we just wanted to look at the ModuleList, we could just print it out as well (these are the sequence of layers) \")\n",
    "print(model.layers)"
   ]
  },
  {
   "cell_type": "code",
   "execution_count": 50,
   "id": "e8d42e18",
   "metadata": {},
   "outputs": [
    {
     "name": "stdout",
     "output_type": "stream",
     "text": [
      "Epoch 1 results: Loss 0.04337153381506602, Train Acc: 0.5020666666666667, Val Acc: 0.5033\n",
      "Epoch 2 results: Loss 0.043280045413970944, Train Acc: 0.5516666666666666, Val Acc: 0.5586\n",
      "Epoch 3 results: Loss 0.04310861246188482, Train Acc: 0.5213333333333333, Val Acc: 0.5224\n",
      "Epoch 4 results: Loss 0.04258451509078344, Train Acc: 0.592, Val Acc: 0.593\n",
      "Epoch 5 results: Loss 0.041469856758912405, Train Acc: 0.6276666666666667, Val Acc: 0.6254\n",
      "Epoch 6 results: Loss 0.03934925354917844, Train Acc: 0.709, Val Acc: 0.7011\n",
      "Epoch 7 results: Loss 0.03698840180635452, Train Acc: 0.7215333333333334, Val Acc: 0.7134\n",
      "Epoch 8 results: Loss 0.035994927604993184, Train Acc: 0.7342666666666666, Val Acc: 0.7187\n",
      "Epoch 9 results: Loss 0.03508005459507307, Train Acc: 0.7388666666666667, Val Acc: 0.7189\n",
      "Epoch 10 results: Loss 0.03448299227754275, Train Acc: 0.7713333333333333, Val Acc: 0.7372\n",
      "Epoch 11 results: Loss 0.033710312559207284, Train Acc: 0.7625333333333333, Val Acc: 0.7306\n",
      "Epoch 12 results: Loss 0.03291306788126628, Train Acc: 0.7746, Val Acc: 0.7385\n",
      "Epoch 13 results: Loss 0.032266579729318616, Train Acc: 0.8062, Val Acc: 0.7562\n",
      "Epoch 14 results: Loss 0.031673758004109064, Train Acc: 0.8020666666666667, Val Acc: 0.7489\n",
      "Epoch 15 results: Loss 0.030933866383632023, Train Acc: 0.8397333333333333, Val Acc: 0.7718\n",
      "Epoch 16 results: Loss 0.03025021217465401, Train Acc: 0.8405333333333334, Val Acc: 0.7738\n",
      "Epoch 17 results: Loss 0.02966973064740499, Train Acc: 0.8470666666666666, Val Acc: 0.7744\n",
      "Epoch 18 results: Loss 0.02906977247595787, Train Acc: 0.7865333333333333, Val Acc: 0.7372\n",
      "Epoch 19 results: Loss 0.028422878859440486, Train Acc: 0.816, Val Acc: 0.7483\n",
      "Epoch 20 results: Loss 0.02791788649360339, Train Acc: 0.8749333333333333, Val Acc: 0.791\n",
      "Epoch 21 results: Loss 0.027454456239938738, Train Acc: 0.7905333333333333, Val Acc: 0.7299\n",
      "Epoch 22 results: Loss 0.026840595181783042, Train Acc: 0.9094, Val Acc: 0.802\n",
      "Epoch 23 results: Loss 0.026220176088809968, Train Acc: 0.9069333333333334, Val Acc: 0.7975\n",
      "Epoch 24 results: Loss 0.025845756687720618, Train Acc: 0.8784, Val Acc: 0.7792\n",
      "Epoch 25 results: Loss 0.025468502058585484, Train Acc: 0.9257333333333333, Val Acc: 0.8075\n",
      "Epoch 26 results: Loss 0.0250710243721803, Train Acc: 0.928, Val Acc: 0.8014\n",
      "Epoch 27 results: Loss 0.024695224342743554, Train Acc: 0.9363333333333334, Val Acc: 0.8128\n",
      "Epoch 28 results: Loss 0.02450626335342725, Train Acc: 0.9403333333333334, Val Acc: 0.8105\n",
      "Epoch 29 results: Loss 0.02422114301721255, Train Acc: 0.9253333333333333, Val Acc: 0.7943\n",
      "Epoch 30 results: Loss 0.023846220940351485, Train Acc: 0.9442, Val Acc: 0.8077\n"
     ]
    }
   ],
   "source": [
    "\n",
    "results = {\"epoch\": [], \"loss\" : [], \"train acc\" : [], \"val acc\" :[]}\n",
    "for i in range(max_epochs):\n",
    "    loss = train(train_dataloader, model, criteria, optimizer, device)\n",
    "    train_acc = evaluate(train_dataloader, model, device)\n",
    "    val_acc = evaluate(dev_dataloader, model, device)\n",
    "    results[\"epoch\"].append(i)\n",
    "    results[\"loss\"].append(loss)\n",
    "    results['train acc'].append(train_acc)\n",
    "    results['val acc'].append(val_acc)\n",
    "    \n",
    "    print(\"Epoch {} results: Loss {}, Train Acc: {}, Val Acc: {}\".format(i+1, loss, train_acc, val_acc))\n"
   ]
  },
  {
   "cell_type": "code",
   "execution_count": 51,
   "id": "950cc456",
   "metadata": {},
   "outputs": [],
   "source": [
    "import matplotlib.pyplot as plt\n",
    "import numpy as np"
   ]
  },
  {
   "cell_type": "markdown",
   "id": "14844f77",
   "metadata": {},
   "source": [
    "Let's plot our results!"
   ]
  },
  {
   "cell_type": "code",
   "execution_count": 54,
   "id": "e9d2d2a8",
   "metadata": {},
   "outputs": [
    {
     "data": {
      "image/png": "[encoded data removed]",
      "text/plain": [
       "<Figure size 432x288 with 2 Axes>"
      ]
     },
     "metadata": {
      "needs_background": "light"
     },
     "output_type": "display_data"
    }
   ],
   "source": [
    "fig, ax1 = plt.subplots()\n",
    "\n",
    "color = 'tab:red'\n",
    "loss_line, = ax1.plot(results[\"epoch\"],results[\"loss\"], linewidth=1.0, color=color, label= \"loss\")\n",
    "ax1.set(xlim=(0, 30), xticks=np.arange(0, 30,5))                               \n",
    "ax1.set_ylabel('loss', color=color)                             \n",
    "ax1.set_xlabel('epochs')\n",
    "ax2 = ax1.twinx()\n",
    "\n",
    "\n",
    "train_line, = ax2.plot(results[\"epoch\"],results[\"train acc\"], linewidth=1.0, label='train acc')\n",
    "val_line, = ax2.plot(results[\"epoch\"],results[\"val acc\"], linewidth=1.0, label='val acc')\n",
    "ax2.set(xlim=(0, 30), xticks=np.arange(0, 30,5),\n",
    "       ylim=(0, 1))\n",
    "ax2.set_ylabel('accuracy')\n",
    "\n",
    "p = [val_line, train_line, loss_line]\n",
    "ax2.legend(p, [p_.get_label() for p_ in p])\n",
    "\n",
    "plt.show()"
   ]
  },
  {
   "cell_type": "markdown",
   "id": "57072b59",
   "metadata": {},
   "source": []
  }
 ],
 "metadata": {
  "kernelspec": {
   "display_name": "Python 3 (ipykernel)",
   "language": "python",
   "name": "python3"
  },
  "language_info": {
   "codemirror_mode": {
    "name": "ipython",
    "version": 3
   },
   "file_extension": ".py",
   "mimetype": "text/x-python",
   "name": "python",
   "nbconvert_exporter": "python",
   "pygments_lexer": "ipython3",
   "version": "3.9.7"
  }
 },
 "nbformat": 4,
 "nbformat_minor": 5
}
