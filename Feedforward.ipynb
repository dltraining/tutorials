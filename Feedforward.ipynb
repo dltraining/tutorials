{
 "cells": [
  {
   "cell_type": "markdown",
   "id": "7467bcd4",
   "metadata": {},
   "source": [
    "# Feedforward Networks\n"
   ]
  },
  {
   "cell_type": "markdown",
   "id": "257a585c",
   "metadata": {},
   "source": [
    "Feedforward networks (FFNs) are neural networks that allow information flow in one direction. They take in a set of features $X$ and output a set of values equal to the number of units in the FFN. \n",
    "\n",
    "Single layer FFNs they often act as linear projections, changing from one size dimension space to a different size dimension space, similarly they are almost always used in the final output layer of more complex networks to move from the model's dimension size to the number of classification targets.\n",
    "\n",
    "Because FFNs only take in one set of features, they aren't frequently used by themselves for tasks that require temporal or spatial understanding: sequences of words, images, or audio are usually better handled by other models.\n",
    "\n",
    "That said, for instances where order doesn't matter (that much), they can still be useful tools."
   ]
  },
  {
   "cell_type": "markdown",
   "id": "6c3a1347",
   "metadata": {},
   "source": [
    "![Overview of FFN](./images/FFN.png)"
   ]
  },
  {
   "cell_type": "markdown",
   "id": "e5bb45e1",
   "metadata": {},
   "source": [
    "Here we have an example FFN applied to an input tensor. You can think of FFNs as a way to do a linear projection, in our case it projects from a size $H=4$ dimensional space into a size $H=2$ dimensional space, our batch size $N$ and any other dimensions (we just write them here as $O$) are unaffected. The linear projection will learn how to convert the factors from one dimensional space (our input space) to this new output space, and when combined with a **non-linear activation function**, such as the **Rectified Linear Unit (ReLU)** or **tanh** (the hyperbolic tangent function), this is enough to solve many complex non-linearly separable problems."
   ]
  },
  {
   "cell_type": "markdown",
   "id": "5be3200a",
   "metadata": {},
   "source": [
    "# FFNs in detail"
   ]
  },
  {
   "cell_type": "markdown",
   "id": "28ebf542",
   "metadata": {},
   "source": [
    "## Linear Layers\n",
    "\n",
    "The core part of our network is the linear projection layer. This layer has a series of weights, that can get updated during neural net training, to learn aspects of the problem. Different layers in a neural network might learn different aspects of a problem. Let's look at how to make one in PyTorch: "
   ]
  },
  {
   "cell_type": "code",
   "execution_count": 1,
   "id": "ad1c98f8",
   "metadata": {},
   "outputs": [
    {
     "name": "stderr",
     "output_type": "stream",
     "text": [
      "C:\\Users\\prsul\\anaconda3\\envs\\pytorch\\lib\\site-packages\\tqdm\\auto.py:22: TqdmWarning: IProgress not found. Please update jupyter and ipywidgets. See https://ipywidgets.readthedocs.io/en/stable/user_install.html\n",
      "  from .autonotebook import tqdm as notebook_tqdm\n"
     ]
    }
   ],
   "source": [
    "import torch, torchtext\n",
    "from torch import nn, Tensor"
   ]
  },
  {
   "cell_type": "code",
   "execution_count": 9,
   "id": "5d6ad374",
   "metadata": {},
   "outputs": [
    {
     "name": "stdout",
     "output_type": "stream",
     "text": [
      "FFN input/output dimensions:[N,H] --> N (Batch), H (Hidden Dimension)\n",
      "Input tensor has shape: torch.Size([2, 4])\n",
      "tensor([[-1.2677, -0.1342,  1.4552, -0.5371],\n",
      "        [-0.3792, -0.9214,  0.1160,  1.0337]])\n",
      "Output tensor has shape: torch.Size([2, 2])\n",
      "tensor([[-0.7166,  0.2390],\n",
      "        [ 0.1111,  0.3040]], grad_fn=<AddmmBackward0>)\n",
      "The actual linear layer weights looks like this:\n",
      "Parameter containing:\n",
      "tensor([[-0.2289, -0.1716, -0.3955,  0.2332],\n",
      "        [-0.0344,  0.0835, -0.0543,  0.0564]], requires_grad=True)\n",
      "With additional bias weights:\n",
      "Parameter containing:\n",
      "tensor([-0.3290,  0.3159], requires_grad=True)\n"
     ]
    }
   ],
   "source": [
    "\n",
    "print(\"FFN input/output dimensions:[N,H] --> N (Batch), H (Hidden Dimension)\")\n",
    "input_dimensions = 4\n",
    "output_dimensions = 2\n",
    "example_FFN = nn.Linear(input_dimensions,output_dimensions)\n",
    "x = torch.randn(2,4)\n",
    "\n",
    "print(\"Input tensor has shape: {}\".format(x.shape))\n",
    "print(x)\n",
    "out = example_FFN(x)\n",
    "print(\"Output tensor has shape: {}\".format(out.shape))\n",
    "print(out)\n",
    "\n",
    "print(\"The actual linear layer weights looks like this:\")\n",
    "print(example_FFN.weight)\n",
    "print(\"With additional bias weights:\")\n",
    "print(example_FFN.bias)"
   ]
  },
  {
   "cell_type": "markdown",
   "id": "9b2b986b",
   "metadata": {},
   "source": [
    "Let's break this down a little more! \n",
    "\n",
    "- Our FFN takes a tensor of size $2 \\times 4$ and converts it into a $2 \\times 2$ tensor. \n",
    "- `grad_fn=<AddmmBackward0>` on the output tensor indicates gradient tracking, this is how Pytorch optimizers will apply backpropagation.\n",
    "- The FFN is made up of two components\n",
    " - A weight tensor that will be of size $inputdim \\times outputdim$ (in our case $4 \\times 2$)\n",
    " - A bias, one value for each output dimension.\n",
    "- The weights and values of each tensor are generally what are called floating point (think of them like decimal) numbers."
   ]
  },
  {
   "cell_type": "markdown",
   "id": "41e1ec12",
   "metadata": {},
   "source": [
    "## Non-Linear Activations\n",
    "\n",
    "A linear layer itself isn't enough to solve non-linearly separable problems (an important class of interesting machine learning problems), this means we need to add some sort of transformation function to enable it to act 'non-linearly', the easy way to do this is through the addition of a non-linear activation function. There are many of these functions,  and they have different properties. Let's take a look at a few:"
   ]
  },
  {
   "cell_type": "code",
   "execution_count": 30,
   "id": "d1683dad",
   "metadata": {},
   "outputs": [
    {
     "data": {
      "image/png": "[encoded data removed]",
      "text/plain": [
       "<Figure size 432x288 with 1 Axes>"
      ]
     },
     "metadata": {
      "needs_background": "light"
     },
     "output_type": "display_data"
    }
   ],
   "source": [
    "import matplotlib.pyplot as plt\n",
    "import numpy as np\n",
    "\n",
    "x = np.arange(-5,5,0.1)  # out timesteps\n",
    "\n",
    "x_tensor = torch.from_numpy(x)\n",
    "activation_functions = [nn.Sigmoid(),nn.ReLU(),nn.SiLU(),nn.Tanh()]\n",
    "\n",
    "fig, ax = plt.subplots()\n",
    "plt.axhline(0, color=\"black\" )\n",
    "plt.axvline(0, color=\"black\")\n",
    "ax.set(xlim=(-2, 2), ylim=(-2, 2))  \n",
    "for activation in activation_functions:\n",
    "    y = np.array(activation(x_tensor))\n",
    "    ax.plot(x, y, linewidth=2, label=type(activation).__name__)\n",
    "\n",
    "ax.legend()\n",
    "plt.show()"
   ]
  },
  {
   "cell_type": "markdown",
   "id": "122c5b8d",
   "metadata": {},
   "source": [
    "Each of these is slightly different in terms of how it deals with inputs, with the simple similarity that none of them are straight lines (linear functions). ReLU is the easiest to explore in that it is just the identity function for positive input values and 0 otherwise. It is also a common choice due to it's reasonably strong performance. Choice of non-linearity, might depend on the particular task, but strong contenders are ReLU and the newer SiLU (aka Swish). Let's look at how the impact tensors:"
   ]
  },
  {
   "cell_type": "code",
   "execution_count": 31,
   "id": "783a70d5",
   "metadata": {},
   "outputs": [
    {
     "name": "stdout",
     "output_type": "stream",
     "text": [
      "Activation function Sigmoid\n",
      "Tensor before:\n",
      "tensor([[ 2.0604, -0.4268,  0.3757, -0.2909],\n",
      "        [-1.9359, -2.1871,  1.2916, -0.5790]])\n",
      "Tensor after\n",
      "tensor([[0.8870, 0.3949, 0.5928, 0.4278],\n",
      "        [0.1261, 0.1009, 0.7844, 0.3592]])\n",
      "Activation function ReLU\n",
      "Tensor before:\n",
      "tensor([[ 0.7254,  1.0108, -0.7815,  1.4718],\n",
      "        [ 0.6399, -1.8693, -0.7016,  1.1181]])\n",
      "Tensor after\n",
      "tensor([[0.7254, 1.0108, 0.0000, 1.4718],\n",
      "        [0.6399, 0.0000, 0.0000, 1.1181]])\n",
      "Activation function SiLU\n",
      "Tensor before:\n",
      "tensor([[ 1.8504,  0.5348,  0.6886,  0.7341],\n",
      "        [ 1.5967,  0.9234, -0.3432,  0.5715]])\n",
      "Tensor after\n",
      "tensor([[ 1.5991,  0.3372,  0.4584,  0.4960],\n",
      "        [ 1.3278,  0.6609, -0.1424,  0.3652]])\n",
      "Activation function Tanh\n",
      "Tensor before:\n",
      "tensor([[ 0.5977, -1.5785,  0.4751, -0.9990],\n",
      "        [ 0.3591, -0.6177, -0.2159, -0.8487]])\n",
      "Tensor after\n",
      "tensor([[ 0.5354, -0.9184,  0.4423, -0.7612],\n",
      "        [ 0.3444, -0.5495, -0.2126, -0.6904]])\n"
     ]
    }
   ],
   "source": [
    "\n",
    "activation_functions = [nn.Sigmoid(),nn.ReLU(),nn.SiLU(),nn.Tanh()]\n",
    "\n",
    "for activation in activation_functions:\n",
    "    print(\"Activation function {}\".format(type(activation).__name__))\n",
    "    x = torch.randn(2,4)\n",
    "    print(\"Tensor before:\")\n",
    "    print(x)\n",
    "    out = activation(x)\n",
    "    print(\"Tensor after\")\n",
    "    print(out)"
   ]
  },
  {
   "cell_type": "markdown",
   "id": "61277567",
   "metadata": {},
   "source": [
    "Some observations:\n",
    "- Sigmoid will always have positive outputs, with things pushed either towards 0 or 1 (though never reaching either of these values)\n",
    "- ReLU will just set negative values to 0 (so simple!)\n",
    "- SiLU will quash large negative values to 0, but small negative values will be only slightly squished.\n",
    "- Tanh is similar to Sigmoid, but shifted to allow for negative values between -1 and 1 (instead of 0 and 1)."
   ]
  },
  {
   "cell_type": "markdown",
   "id": "4e0484ee",
   "metadata": {},
   "source": [
    "## Dropout\n",
    "\n",
    "For machine learning, an important factor in training models is ensuring that you don't overfit to training data. One particular trick used to promote this in deep learning is the use of something called Dropout. Dropout is simple, it simply sets certain values randomly to 0, so that when applied through a layer, the network does not become too reliant on only certain nodes in the network to learn particular aspects of the problem. This allows for more robust training, and is standard practice in most deep learning models. During evaluation time of the module, this is turned off, allowing for the model to predict at it's best without the handicap.\n",
    "\n",
    "Let's take a look at it:"
   ]
  },
  {
   "cell_type": "code",
   "execution_count": 61,
   "id": "d7bfcc9d",
   "metadata": {},
   "outputs": [
    {
     "name": "stdout",
     "output_type": "stream",
     "text": [
      "Before dropout\n",
      "tensor([[ 1.1721,  0.0143,  1.7336, -0.2075],\n",
      "        [-0.5045, -1.1490, -2.0957,  0.0676]])\n",
      "after dropout\n",
      "tensor([[ 0.0000,  0.0000,  3.4672, -0.4149],\n",
      "        [-1.0089, -0.0000, -0.0000,  0.1352]])\n"
     ]
    }
   ],
   "source": [
    "x = torch.randn(2,4)\n",
    "dropout = nn.Dropout(p=.5)\n",
    "print(\"Before dropout\")\n",
    "print(x)\n",
    "out = dropout(x)\n",
    "print(\"after dropout\")\n",
    "print(out)"
   ]
  },
  {
   "cell_type": "markdown",
   "id": "d4c99fc5",
   "metadata": {},
   "source": [
    "Let's look at a simple combination of these layers so far. Here we package them into a pytorch style module 'class' which allows for the weights to be 'remembered' during training, and to be updated as we go. The forward function here defines how we pass data through the model, in our case we simply pass it one after another through our components."
   ]
  },
  {
   "cell_type": "code",
   "execution_count": 38,
   "id": "1a49b621",
   "metadata": {},
   "outputs": [],
   "source": [
    "class SimpleDropoutModule(nn.Module):\n",
    "    def __init__(self):\n",
    "        super(SimpleDropoutModule, self).__init__()\n",
    "        self.layer = nn.Linear(4,2)   \n",
    "        self.activation = nn.Tanh()\n",
    "        self.dropout= nn.Dropout(p=.5) \n",
    "    \n",
    "    def forward(self, x):    # out 'foward' pass\n",
    "        x = self.layer(x)\n",
    "        x = self.activation(x)\n",
    "        x = self.dropout(x)\n",
    "        return x"
   ]
  },
  {
   "cell_type": "code",
   "execution_count": 39,
   "id": "8b742705",
   "metadata": {},
   "outputs": [
    {
     "name": "stdout",
     "output_type": "stream",
     "text": [
      "Input\n",
      "tensor([[ 1.3736, -1.8769,  0.6300, -1.1968],\n",
      "        [-1.7959, -1.9363,  0.9578, -0.3817]])\n",
      "Output\n",
      "tensor([[ 0.0000, -0.0000],\n",
      "        [ 0.0000, -1.8407]], grad_fn=<MulBackward0>)\n",
      "Input through 'eval' version of model\n",
      "tensor([[ 1.3736, -1.8769,  0.6300, -1.1968],\n",
      "        [-1.7959, -1.9363,  0.9578, -0.3817]])\n",
      "Output through 'eval' version of model\n",
      "tensor([[ 0.6283, -0.4625],\n",
      "        [ 0.5964, -0.9204]], grad_fn=<TanhBackward0>)\n"
     ]
    }
   ],
   "source": [
    "x = torch.randn(2,4)\n",
    "example_model = SimpleDropoutModule()\n",
    "print(\"Input\")\n",
    "print(x)\n",
    "out = example_model(x)\n",
    "print(\"Output\")\n",
    "print(out)\n",
    "\n",
    "example_model.eval()\n",
    "print(\"Input through 'eval' version of model\")\n",
    "print(x)\n",
    "out = example_model(x)\n",
    "print(\"Output through 'eval' version of model\")\n",
    "print(out)"
   ]
  },
  {
   "cell_type": "markdown",
   "id": "a5db04d3",
   "metadata": {},
   "source": [
    "Here we can see how 'eval' will turn off the dropout layer."
   ]
  },
  {
   "cell_type": "markdown",
   "id": "57eab572",
   "metadata": {},
   "source": [
    "## Softmax\n",
    "\n",
    "Finally we often want to get the outputs of our model in a probability distribution, we do this using the Softmax function, which simply normalizes the outputs so that they add up to 1. This can then be used with a loss function that will determine how far our normalized predictions were from the ultimate answer. The dimension in the softmax should usually correspond to your hidden or embedding dimension (usually the last dimension in your tensor, which corresponds to giving -1 to the dimension argument)"
   ]
  },
  {
   "cell_type": "code",
   "execution_count": 40,
   "id": "56f9bf89",
   "metadata": {},
   "outputs": [
    {
     "name": "stdout",
     "output_type": "stream",
     "text": [
      "Before softmax\n",
      "tensor([[-0.0405,  0.3267,  0.8583,  0.6062],\n",
      "        [-0.2797,  1.2577,  0.7598, -0.3954]])\n",
      "After softmax\n",
      "tensor([[0.1469, 0.2120, 0.3608, 0.2804],\n",
      "        [0.1067, 0.4965, 0.3018, 0.0951]])\n"
     ]
    }
   ],
   "source": [
    "softmax = nn.Softmax(dim=-1)\n",
    "\n",
    "x = torch.randn(2,4)\n",
    "print(\"Before softmax\")\n",
    "print(x)\n",
    "out = softmax(x)\n",
    "print(\"After softmax\")\n",
    "print(out)"
   ]
  },
  {
   "cell_type": "markdown",
   "id": "77e41f2c",
   "metadata": {},
   "source": [
    "Here we can just verify that the rows (our H dimension) add up to 1."
   ]
  },
  {
   "cell_type": "markdown",
   "id": "2b0e23f3",
   "metadata": {},
   "source": [
    "# Classification Task: Sentiment Analysis"
   ]
  },
  {
   "cell_type": "markdown",
   "id": "615a1c0b",
   "metadata": {},
   "source": [
    "Let's put our knowledge into practice through a simple sentiment classification task. Each sentence in our tasks (from the Stanford Sentiment Treebank) corresponds to either a positive or a negative sentence (e.g. \"That was great\" (pos) vs. \"The worst thing ever\" (neg)).\n",
    "\n",
    "Because FFNs are not great at dealing with sequence components, that is to say the order of words, we'll employ an EmbeddingBag to get a single representation of all the words in the sentence. Our EmbeddingBag just maps each token to a learnable vector, and then sums all the resulting vectors in the sentence together to summarize the entire sentence. This means we can ignore the sentence order in our problem (we'll look at tools that better deal with order later).\n",
    "\n",
    "First let's grab our corpus and some helpful tools from the torchtext library."
   ]
  },
  {
   "cell_type": "code",
   "execution_count": 41,
   "id": "cbea632d",
   "metadata": {},
   "outputs": [
    {
     "name": "stdout",
     "output_type": "stream",
     "text": [
      "cuda\n"
     ]
    }
   ],
   "source": [
    "\n",
    "from torchtext.datasets import SST2\n",
    "from torchtext.vocab import build_vocab_from_iterator\n",
    "from torchtext.data.utils import get_tokenizer\n",
    "from torch.utils.data import dataset\n",
    "\n",
    "device = \"cuda\" if torch.cuda.is_available() else \"cpu\"\n",
    "print(device)"
   ]
  },
  {
   "cell_type": "code",
   "execution_count": 42,
   "id": "0fd97763",
   "metadata": {},
   "outputs": [],
   "source": [
    "SST2_train = SST2(split=\"train\") \n",
    "SST2_dev = SST2(split=\"dev\")"
   ]
  },
  {
   "cell_type": "markdown",
   "id": "a67aeb53",
   "metadata": {},
   "source": [
    "Since we'll need to know what words map to what tokenIDs (the numeric representation of our input) we'll build a vocabulary from our corpus, the vocab here is really just this mapping."
   ]
  },
  {
   "cell_type": "code",
   "execution_count": 43,
   "id": "86338f42",
   "metadata": {},
   "outputs": [],
   "source": [
    "tokenizer = get_tokenizer('basic_english')\n",
    "vocab = build_vocab_from_iterator(map(lambda x: tokenizer(x[0]), SST2_train), max_tokens=10000, specials=['<unk>','<pad>'])\n",
    "vocab.set_default_index(vocab['<unk>'])"
   ]
  },
  {
   "cell_type": "code",
   "execution_count": 44,
   "id": "bfb4e327",
   "metadata": {},
   "outputs": [
    {
     "data": {
      "text/plain": [
       "10000"
      ]
     },
     "execution_count": 44,
     "metadata": {},
     "output_type": "execute_result"
    }
   ],
   "source": [
    "len(vocab)"
   ]
  },
  {
   "cell_type": "code",
   "execution_count": 45,
   "id": "b77cb830",
   "metadata": {},
   "outputs": [
    {
     "data": {
      "text/plain": [
       "[1, 0]"
      ]
     },
     "execution_count": 45,
     "metadata": {},
     "output_type": "execute_result"
    }
   ],
   "source": [
    "vocab.lookup_indices([\"<pad>\",\"<unk>\"])"
   ]
  },
  {
   "cell_type": "markdown",
   "id": "3fa0806b",
   "metadata": {},
   "source": [
    "Next we need to tokenize our text, that is break it into individual units. Each tokenizer is a little bit different, some will simply break each word into their own token (a 'whitespace' tokenizer), while others will handle contractions differently (\"won't\" might be broken into \"won\" and \"'t\" or something similar). Fancier tokenizers might learn how to tokenize things best from statistical modeling of the corpus, one common tool that does this is the SentencePiece tokenizer, but for now we'll just use a simple one."
   ]
  },
  {
   "cell_type": "code",
   "execution_count": 47,
   "id": "4b91ec5c",
   "metadata": {},
   "outputs": [],
   "source": [
    "from typing import List, Optional, Any, Union\n",
    "\n",
    "class default_tokenizer(nn.Module):\n",
    "    def __init__(self, tokenizer):\n",
    "        super().__init__()\n",
    "        self.tokenizer = tokenizer\n",
    "\n",
    "    def forward(self, input: Any) -> Any:\n",
    "        if torch.jit.isinstance(input, List[str]):\n",
    "            tokens: List[List[str]] = []\n",
    "            for text in input:\n",
    "                tokens.append(self.tokenizer(text))\n",
    "            return tokens\n",
    "        elif torch.jit.isinstance(input, str):\n",
    "            return self.tokenizer(input)\n",
    "        else:\n",
    "            raise TypeError(\"Input type not supported\")"
   ]
  },
  {
   "cell_type": "markdown",
   "id": "9cef2249",
   "metadata": {},
   "source": [
    "To apply it and turn our raw vocab into ids we'll put it into a transform sequence."
   ]
  },
  {
   "cell_type": "code",
   "execution_count": 48,
   "id": "10c4cb79",
   "metadata": {},
   "outputs": [],
   "source": [
    "import torchtext.transforms as T\n",
    "\n",
    "processor = T.Sequential(\n",
    "    default_tokenizer(tokenizer),\n",
    "    T.VocabTransform(vocab),\n",
    "    )\n",
    "\n"
   ]
  },
  {
   "cell_type": "markdown",
   "id": "1a701b4c",
   "metadata": {},
   "source": [
    "Now we apply this to our dataset and create dataloaders, which will be able to shuffle our data into sets of batches (this way we can train on more than one sample at a time)."
   ]
  },
  {
   "cell_type": "code",
   "execution_count": 49,
   "id": "1cab9f88",
   "metadata": {},
   "outputs": [],
   "source": [
    "from torch.utils.data import DataLoader\n",
    "from torch.nn.utils.rnn import pad_sequence\n",
    "\n",
    "def collate_batch(batch):\n",
    "    label_list, text_list = [], []\n",
    "    for (_text, _label) in batch:\n",
    "        label_list.append(_label)\n",
    "        processed_text = torch.tensor(processor(_text))\n",
    "        text_list.append(processed_text)\n",
    "    return torch.tensor(label_list), pad_sequence(text_list, padding_value=vocab.__getitem__(\"<pad>\"))\n",
    "\n",
    "\n",
    "train_loader = DataLoader(list(SST2_train), batch_size=64, shuffle=True, \n",
    "                              collate_fn=collate_batch)\n",
    "dev_loader = DataLoader(list(SST2_dev), batch_size=64, shuffle=False, \n",
    "                              collate_fn=collate_batch)"
   ]
  },
  {
   "cell_type": "code",
   "execution_count": 50,
   "id": "8a30f538",
   "metadata": {},
   "outputs": [
    {
     "name": "stdout",
     "output_type": "stream",
     "text": [
      "(tensor([0, 0, 0, 0, 1, 0, 0, 1, 0, 1, 0, 1, 0, 0, 1, 1, 0, 1, 1, 1, 0, 1, 0, 0,\n",
      "        0, 0, 1, 1, 1, 1, 1, 0, 1, 0, 1, 0, 0, 1, 1, 1, 1, 0, 1, 1, 1, 0, 0, 0,\n",
      "        0, 1, 0, 0, 0, 1, 0, 0, 1, 0, 1, 1, 1, 0, 1, 1]), tensor([[  71,  999, 2941,  ...,   67,    3, 2032],\n",
      "        [  59, 4064,   54,  ...,   13,    2,   13],\n",
      "        [1076,   14,    0,  ...,    2,   18,   73],\n",
      "        ...,\n",
      "        [  41,    1,    1,  ...,    1,    1,    1],\n",
      "        [  22,    1,    1,  ...,    1,    1,    1],\n",
      "        [   7,    1,    1,  ...,    1,    1,    1]]))\n"
     ]
    }
   ],
   "source": [
    "for i in train_loader:\n",
    "    print(i)\n",
    "    break\n",
    "\n",
    "    \n",
    "    "
   ]
  },
  {
   "cell_type": "markdown",
   "id": "46b08a6e",
   "metadata": {},
   "source": [
    "All those 1s in the lower rows are our padded sentences. "
   ]
  },
  {
   "cell_type": "markdown",
   "id": "de9f686c",
   "metadata": {},
   "source": [
    "Let's define a training loop and evaluation loop. In the first, we will pass a batch of our dataset to our model, create predictions from the batch and then see how closely they matched the targets. From this we'll generate a **loss** which can be used by our **optimizer** to shift the weights in our model in a direction that will cause it to guess better next time.\n",
    "\n",
    "Our evaluation loop simply passes the dataloaders in to generate predictions and calculate the accuracy of those predictions."
   ]
  },
  {
   "cell_type": "code",
   "execution_count": 51,
   "id": "d0960664",
   "metadata": {},
   "outputs": [],
   "source": [
    "from sklearn.metrics import accuracy_score \n",
    "\n",
    "def train(loader, model, criterion, optimizer, device):\n",
    "    total_loss = 0.0\n",
    "    num_sample = 0\n",
    "    for batch in loader:\n",
    "        # load the current batch\n",
    "        batch_output, batch_input = batch\n",
    "\n",
    "        batch_input = batch_input.to(device)\n",
    "        batch_output = batch_output.to(device)\n",
    "        # forward propagation\n",
    "        # pass the data through the model\n",
    "        model_outputs = model(batch_input)\n",
    "        # compute the loss\n",
    "        cur_loss = criterion(model_outputs, batch_output)\n",
    "        total_loss += cur_loss.item()\n",
    "\n",
    "        # backward propagation (compute the gradients and update the model)\n",
    "        # clear the buffer\n",
    "        optimizer.zero_grad()\n",
    "        # compute the gradients\n",
    "        cur_loss.backward()\n",
    "        # update the weights\n",
    "        optimizer.step()\n",
    "        num_sample += batch_output.shape[0]\n",
    "    return total_loss / num_sample\n",
    "\n",
    "\n",
    "# evaluation logic based on classification accuracy\n",
    "def evaluate(loader, model, device):\n",
    "    all_pred = []\n",
    "    all_label = []\n",
    "    with torch.no_grad():\n",
    "        for batch in loader:\n",
    "            # load the current batch\n",
    "            batch_output, batch_input = batch\n",
    "\n",
    "\n",
    "            batch_input = batch_input.to(device)\n",
    "            # forward propagation\n",
    "            # pass the data through the model\n",
    "            model_outputs = model(batch_input)\n",
    "            # identify the predicted class for each example in the batch\n",
    "            probabilities, predicted = torch.max(model_outputs.cpu().data, 1)\n",
    "            # put all the true labels and predictions to two lists\n",
    "            all_pred.extend(predicted)\n",
    "            all_label.extend(batch_output)\n",
    "\n",
    "    accuracy = accuracy_score(all_label, all_pred)\n",
    "    return accuracy\n"
   ]
  },
  {
   "cell_type": "markdown",
   "id": "c41911ee",
   "metadata": {},
   "source": [
    "Next let's build our actual model. This time we've fleshed it out considerably from our earlier example, but fundamentally it's the same. A linear layer followed by a nonlinearity and then dropout. This time we do have an EmbeddingBag, which again compresses our input sentence into a summarized representation, and we added an output layer with softmax."
   ]
  },
  {
   "cell_type": "code",
   "execution_count": 52,
   "id": "ce395ec8",
   "metadata": {},
   "outputs": [],
   "source": [
    "class FFN(nn.Module):\n",
    "    def __init__(self, output_size, layers, linear_units, vocab_size, embedding_size, dropout):\n",
    "        super(FFN, self).__init__()\n",
    "        \n",
    "        self.layers = nn.ModuleList()  # Keep track of our layers\n",
    "        self.nonlinear = nn.ReLU()     # Non-linear activation \n",
    "        self.dropout = nn.Dropout(p=dropout)     #  Dropout helps the network generalize to unseen data\n",
    "        self.layers.append(nn.EmbeddingBag(vocab_size, embedding_size, padding_idx=vocab.__getitem__(\"<pad>\")))   # Convert input text into a pooled vector\n",
    "        self.layers.append(nn.Linear(embedding_size, linear_units))   # The first of our Feedforward layers\n",
    "        self.layers.append(self.nonlinear)\n",
    "        for layer in range(layers):    # For each layer, add a Linear, nonlinear activation, and dropout.\n",
    "            self.layers.append(nn.Linear(linear_units,linear_units))\n",
    "            self.layers.append(self.nonlinear)\n",
    "            self.layers.append(self.dropout)\n",
    "        self.layers.append(nn.Linear(linear_units,output_size))   # on the final layer, project to size of classes\n",
    "        self.layers.append(nn.Softmax(dim=-1))   # Softmax normalizes vectors so they can represent probabilities\n",
    "    \n",
    "    def forward(self, x):    # out 'foward' pass, since we put everything into a ModuleList, we just iterate it.\n",
    "        x = x.permute(1,0)\n",
    "        for layer in self.layers:\n",
    "            x = layer(x)\n",
    "        return x"
   ]
  },
  {
   "cell_type": "markdown",
   "id": "ff8ff963",
   "metadata": {},
   "source": [
    "We can define these things now. Last two things are our optimizer, which we'll use the Stochastic Gradient Descent algorithm, and our loss function, Cross Entropy"
   ]
  },
  {
   "cell_type": "code",
   "execution_count": 56,
   "id": "7ba8fbc5",
   "metadata": {},
   "outputs": [],
   "source": [
    "model = FFN(2, 3, 128, len(vocab), 128, .3)\n",
    "model.to(device)\n",
    "optimizer = torch.optim.SGD(model.parameters(), lr=0.01,momentum=.9)\n",
    "criteria = nn.CrossEntropyLoss()\n",
    "max_epochs = 30\n"
   ]
  },
  {
   "cell_type": "code",
   "execution_count": 57,
   "id": "e8d42e18",
   "metadata": {},
   "outputs": [
    {
     "name": "stdout",
     "output_type": "stream",
     "text": [
      "Epoch 1 results: Loss 0.010734199214688576, Train Acc: 0.5578256544269403, Val Acc: 0.5091743119266054\n",
      "Epoch 2 results: Loss 0.010690897656707669, Train Acc: 0.565398149935411, Val Acc: 0.5493119266055045\n",
      "Epoch 3 results: Loss 0.01038943259890806, Train Acc: 0.6304622191866249, Val Acc: 0.5997706422018348\n",
      "Epoch 4 results: Loss 0.010019220963029082, Train Acc: 0.6739817963147189, Val Acc: 0.6123853211009175\n",
      "Epoch 5 results: Loss 0.009521359265780764, Train Acc: 0.7214657975619534, Val Acc: 0.6238532110091743\n",
      "Epoch 6 results: Loss 0.008980712261257866, Train Acc: 0.7445990289388112, Val Acc: 0.6261467889908257\n",
      "Epoch 7 results: Loss 0.008581478121650641, Train Acc: 0.7729290709587373, Val Acc: 0.6204128440366973\n",
      "Epoch 8 results: Loss 0.008286120340686738, Train Acc: 0.7809767034402887, Val Acc: 0.6353211009174312\n",
      "Epoch 9 results: Loss 0.00805090936436101, Train Acc: 0.8092028092473533, Val Acc: 0.643348623853211\n",
      "Epoch 10 results: Loss 0.007855700091403475, Train Acc: 0.821927571307666, Val Acc: 0.643348623853211\n",
      "Epoch 11 results: Loss 0.007710792785706921, Train Acc: 0.8325587610803427, Val Acc: 0.6399082568807339\n",
      "Epoch 12 results: Loss 0.007596767378461574, Train Acc: 0.837369522932783, Val Acc: 0.6513761467889908\n",
      "Epoch 13 results: Loss 0.007490615487341187, Train Acc: 0.8438729602518226, Val Acc: 0.6123853211009175\n",
      "Epoch 14 results: Loss 0.007346287053115196, Train Acc: 0.8453874593535168, Val Acc: 0.6444954128440367\n",
      "Epoch 15 results: Loss 0.007251521060740377, Train Acc: 0.8531678272877102, Val Acc: 0.6353211009174312\n",
      "Epoch 16 results: Loss 0.007194799002221306, Train Acc: 0.8628784391750435, Val Acc: 0.6467889908256881\n",
      "Epoch 17 results: Loss 0.0071268116530070185, Train Acc: 0.8630863116007662, Val Acc: 0.6353211009174312\n",
      "Epoch 18 results: Loss 0.007021603967464164, Train Acc: 0.869322484372448, Val Acc: 0.643348623853211\n",
      "Epoch 19 results: Loss 0.006979015042931255, Train Acc: 0.8763307547253857, Val Acc: 0.6743119266055045\n",
      "Epoch 20 results: Loss 0.006912620164080398, Train Acc: 0.8751726083535019, Val Acc: 0.6307339449541285\n",
      "Epoch 21 results: Loss 0.006904108914807318, Train Acc: 0.8767316515464224, Val Acc: 0.6422018348623854\n",
      "Epoch 22 results: Loss 0.006852529212080413, Train Acc: 0.8768949798809188, Val Acc: 0.6490825688073395\n",
      "Epoch 23 results: Loss 0.006802244776456286, Train Acc: 0.8805921394527016, Val Acc: 0.6341743119266054\n",
      "Epoch 24 results: Loss 0.0067447290780519534, Train Acc: 0.8860413666127188, Val Acc: 0.6364678899082569\n",
      "Epoch 25 results: Loss 0.006692465602547117, Train Acc: 0.890985760738838, Val Acc: 0.643348623853211\n",
      "Epoch 26 results: Loss 0.006634290243062795, Train Acc: 0.8927972204487075, Val Acc: 0.6525229357798165\n",
      "Epoch 27 results: Loss 0.0066349745508302235, Train Acc: 0.8949056407667523, Val Acc: 0.643348623853211\n",
      "Epoch 28 results: Loss 0.00658302604607848, Train Acc: 0.8928566125703425, Val Acc: 0.6513761467889908\n",
      "Epoch 29 results: Loss 0.006581909426085344, Train Acc: 0.8959598509257747, Val Acc: 0.6490825688073395\n",
      "Epoch 30 results: Loss 0.006538856593528377, Train Acc: 0.901023029295164, Val Acc: 0.6490825688073395\n"
     ]
    }
   ],
   "source": [
    "\n",
    "results = {\"epoch\": [], \"loss\" : [], \"train acc\" : [], \"val acc\" :[]}\n",
    "for i in range(max_epochs):\n",
    "    loss = train(train_loader, model, criteria, optimizer, device)\n",
    "    train_acc = evaluate(train_loader, model, device)\n",
    "    val_acc = evaluate(dev_loader, model, device)\n",
    "    results[\"epoch\"].append(i)\n",
    "    results[\"loss\"].append(loss)\n",
    "    results['train acc'].append(train_acc)\n",
    "    results['val acc'].append(val_acc)\n",
    "    \n",
    "    print(\"Epoch {} results: Loss {}, Train Acc: {}, Val Acc: {}\".format(i+1, loss, train_acc, val_acc))\n"
   ]
  },
  {
   "cell_type": "code",
   "execution_count": 58,
   "id": "4df44c19",
   "metadata": {},
   "outputs": [],
   "source": [
    "import matplotlib.pyplot as plt\n",
    "import numpy as np"
   ]
  },
  {
   "cell_type": "code",
   "execution_count": 60,
   "id": "645bd9ba",
   "metadata": {},
   "outputs": [
    {
     "data": {
      "image/png": "[encoded data removed]",
      "text/plain": [
       "<Figure size 432x288 with 2 Axes>"
      ]
     },
     "metadata": {
      "needs_background": "light"
     },
     "output_type": "display_data"
    }
   ],
   "source": [
    "fig, ax1 = plt.subplots()\n",
    "\n",
    "color = 'tab:red'\n",
    "loss_line, = ax1.plot(results[\"epoch\"],results[\"loss\"], linewidth=1.0, color=color, label= \"loss\")\n",
    "ax1.set(xlim=(0, 30), xticks=np.arange(0, 30,5))                               \n",
    "ax1.set_ylabel('loss', color=color)                             \n",
    "ax1.set_xlabel('epochs')\n",
    "ax2 = ax1.twinx()\n",
    "\n",
    "\n",
    "train_line, = ax2.plot(results[\"epoch\"],results[\"train acc\"], linewidth=1.0, label='train acc')\n",
    "val_line, = ax2.plot(results[\"epoch\"],results[\"val acc\"], linewidth=1.0, label='val acc')\n",
    "ax2.set(xlim=(0, 30), xticks=np.arange(0, 30,5),\n",
    "       ylim=(0, 1))\n",
    "ax2.set_ylabel('accuracy')\n",
    "\n",
    "p = [val_line, train_line, loss_line]\n",
    "ax2.legend(p, [p_.get_label() for p_ in p])\n",
    "\n",
    "plt.show()"
   ]
  }
 ],
 "metadata": {
  "kernelspec": {
   "display_name": "Python 3 (ipykernel)",
   "language": "python",
   "name": "python3"
  },
  "language_info": {
   "codemirror_mode": {
    "name": "ipython",
    "version": 3
   },
   "file_extension": ".py",
   "mimetype": "text/x-python",
   "name": "python",
   "nbconvert_exporter": "python",
   "pygments_lexer": "ipython3",
   "version": "3.9.7"
  }
 },
 "nbformat": 4,
 "nbformat_minor": 5
}
