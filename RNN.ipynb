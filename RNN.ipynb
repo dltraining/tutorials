{
 "cells": [
  {
   "cell_type": "markdown",
   "metadata": {
    "id": "Qwm-Be4BvcU9"
   },
   "source": [
    "## Recurrent Neural Networks (RNNs)\n",
    "\n",
    "Recurrent Neural Networks (RNNs) are used to model sequences of arbitrary length (e.g., sequence of words in a sentence, sequence of sentences in a document, sequence of frames in a video). RNNs typically use their internal state (memory) to process sequence of inputs. At each time-step, RNNs output a prediction and hidden state, feeding its previous hidden state into each next step. RNNs are applied in a wide range of NLP applications:\n",
    "- language modeling, where RNN can condition on **all** previous words in the corpus unlike n-gram language model\n",
    "- text classification, where the states act as features (we will see sentiment analysis in this tutorial)\n",
    "- machine translation, where a RNN is used to process a sentence in source language and another RNN is used to decode the sentence in target language (we will see this in the \"Machine Translation\" course)\n",
    "- sequence labeling, where the states in RNN are used to predict a category for each item in the sequence (we might see named entity recognition in the next tutorial)\n",
    "\n",
    "![](images/rnn.png)\n",
    "\n",
    "Picture Courtesy: https://github.com/UBC-NLP/dlnlp2019/blob/master/slides/RNN.pdf"
   ]
  },
  {
   "cell_type": "markdown",
   "metadata": {
    "id": "QRPumqmgvcVB"
   },
   "source": [
    "## RNN for Classification Task \n",
    "\n",
    "We now model the text classification task of IMDB movie reviews with a vallina RNN. We'll use the RNN to sequentially process the input sequence of tokens."
   ]
  },
  {
   "cell_type": "markdown",
   "metadata": {
    "id": "6fWBhdxpvcVB"
   },
   "source": [
    "### Load Python libraries"
   ]
  },
  {
   "cell_type": "code",
   "execution_count": 1,
   "metadata": {
    "colab": {
     "base_uri": "https://localhost:8080/"
    },
    "id": "zM9OCh9qxQJZ",
    "outputId": "1bf8778d-d95c-4031-d2dd-6b66dbac94c7"
   },
   "outputs": [
    {
     "name": "stdout",
     "output_type": "stream",
     "text": [
      "Requirement already satisfied: torch==1.11.0 in /usr/local/lib/python3.7/dist-packages (1.11.0)\n",
      "Requirement already satisfied: typing-extensions in /usr/local/lib/python3.7/dist-packages (from torch==1.11.0) (3.10.0.2)\n",
      "Requirement already satisfied: torchtext==0.12.0 in /usr/local/lib/python3.7/dist-packages (0.12.0)\n",
      "Requirement already satisfied: requests in /usr/local/lib/python3.7/dist-packages (from torchtext==0.12.0) (2.23.0)\n",
      "Requirement already satisfied: tqdm in /usr/local/lib/python3.7/dist-packages (from torchtext==0.12.0) (4.63.0)\n",
      "Requirement already satisfied: numpy in /usr/local/lib/python3.7/dist-packages (from torchtext==0.12.0) (1.21.5)\n",
      "Requirement already satisfied: torch==1.11.0 in /usr/local/lib/python3.7/dist-packages (from torchtext==0.12.0) (1.11.0)\n",
      "Requirement already satisfied: typing-extensions in /usr/local/lib/python3.7/dist-packages (from torch==1.11.0->torchtext==0.12.0) (3.10.0.2)\n",
      "Requirement already satisfied: chardet<4,>=3.0.2 in /usr/local/lib/python3.7/dist-packages (from requests->torchtext==0.12.0) (3.0.4)\n",
      "Requirement already satisfied: idna<3,>=2.5 in /usr/local/lib/python3.7/dist-packages (from requests->torchtext==0.12.0) (2.10)\n",
      "Requirement already satisfied: urllib3!=1.25.0,!=1.25.1,<1.26,>=1.21.1 in /usr/local/lib/python3.7/dist-packages (from requests->torchtext==0.12.0) (1.25.11)\n",
      "Requirement already satisfied: certifi>=2017.4.17 in /usr/local/lib/python3.7/dist-packages (from requests->torchtext==0.12.0) (2021.10.8)\n",
      "Requirement already satisfied: torchdata==0.3.0 in /usr/local/lib/python3.7/dist-packages (0.3.0)\n",
      "Requirement already satisfied: torch==1.11.0 in /usr/local/lib/python3.7/dist-packages (from torchdata==0.3.0) (1.11.0)\n",
      "Requirement already satisfied: requests in /usr/local/lib/python3.7/dist-packages (from torchdata==0.3.0) (2.23.0)\n",
      "Requirement already satisfied: urllib3>=1.25 in /usr/local/lib/python3.7/dist-packages (from torchdata==0.3.0) (1.25.11)\n",
      "Requirement already satisfied: typing-extensions in /usr/local/lib/python3.7/dist-packages (from torch==1.11.0->torchdata==0.3.0) (3.10.0.2)\n",
      "Requirement already satisfied: chardet<4,>=3.0.2 in /usr/local/lib/python3.7/dist-packages (from requests->torchdata==0.3.0) (3.0.4)\n",
      "Requirement already satisfied: certifi>=2017.4.17 in /usr/local/lib/python3.7/dist-packages (from requests->torchdata==0.3.0) (2021.10.8)\n",
      "Requirement already satisfied: idna<3,>=2.5 in /usr/local/lib/python3.7/dist-packages (from requests->torchdata==0.3.0) (2.10)\n"
     ]
    }
   ],
   "source": [
    "# our code was tested with torch==1.11.0 and torchtext==0.12.0\n",
    "!pip install torch==1.11.0\n",
    "!pip install torchtext==0.12.0\n",
    "!pip install torchdata==0.3.0"
   ]
  },
  {
   "cell_type": "code",
   "execution_count": 2,
   "metadata": {
    "colab": {
     "base_uri": "https://localhost:8080/"
    },
    "id": "Vr99C7zJvcVC",
    "outputId": "17a11c38-07f9-43c5-9bdf-d014145c6e4a"
   },
   "outputs": [
    {
     "name": "stdout",
     "output_type": "stream",
     "text": [
      "cuda\n"
     ]
    }
   ],
   "source": [
    "import torch, torchtext\n",
    "from torch import nn, Tensor\n",
    "from torchtext.datasets import IMDB\n",
    "from torchtext.data import to_map_style_dataset\n",
    "from torchtext.vocab import build_vocab_from_iterator\n",
    "from torchtext.data.utils import get_tokenizer\n",
    "from torch.utils.data import dataset, random_split\n",
    "\n",
    "device = \"cuda\" if torch.cuda.is_available() else \"cpu\"\n",
    "print(device)"
   ]
  },
  {
   "cell_type": "markdown",
   "metadata": {
    "id": "Jg7cNVyrvcVD"
   },
   "source": [
    "### Prepare data"
   ]
  },
  {
   "cell_type": "markdown",
   "metadata": {
    "id": "SQOhpZ1NvcVD"
   },
   "source": [
    "We use load IMDB dataset from `torchtext.datasets`. Please find more details [here](https://pytorch.org/text/stable/datasets.html#imdb)."
   ]
  },
  {
   "cell_type": "code",
   "execution_count": 3,
   "metadata": {
    "id": "_5ns0fWcvcVE"
   },
   "outputs": [],
   "source": [
    "IMDB_train = IMDB(split=\"train\")\n",
    "IMDB_train = to_map_style_dataset(IMDB_train)\n",
    "IMDB_train, IMDB_dev = random_split(IMDB_train, [15000,10000])"
   ]
  },
  {
   "cell_type": "markdown",
   "metadata": {
    "id": "xAu-Iw3aCIbD"
   },
   "source": [
    "Show the first sample in the dataset"
   ]
  },
  {
   "cell_type": "code",
   "execution_count": 4,
   "metadata": {
    "colab": {
     "base_uri": "https://localhost:8080/"
    },
    "id": "l_ZJ3JLtvcVE",
    "outputId": "77b6f891-e8d3-466e-f055-0ff581dbe799"
   },
   "outputs": [
    {
     "data": {
      "text/plain": [
       "('neg',\n",
       " \"Hey HULU.com is playing the Elvira late night horror show on their site and this movie is their under the Name Monsteroid, good fun to watch Elvira comment on this Crappy movie ....Have Fun with bad movies. Anyways this movie really has very little value other than to see how bad the 70's were for horror flicks Bad Effects, Bad Dialog, just bad movie making. Avoid this unless you want to laugh at it. While you are at HULU check out the other movies that are their right now there is 10 episodes and some are pretty decent movies with good plots and production and you can watch a lot of them in 480p as long as you have a decent speed connection.\")"
      ]
     },
     "execution_count": 4,
     "metadata": {},
     "output_type": "execute_result"
    }
   ],
   "source": [
    "IMDB_train[0]"
   ]
  },
  {
   "cell_type": "markdown",
   "metadata": {
    "id": "ttA9F43wvcVF"
   },
   "source": [
    "### Create tokenizer and vocabulary"
   ]
  },
  {
   "cell_type": "markdown",
   "metadata": {
    "id": "00ZN_J6ECQ2X"
   },
   "source": [
    "We use our train set to construct the vocabulary."
   ]
  },
  {
   "cell_type": "code",
   "execution_count": 5,
   "metadata": {
    "id": "KrbIGVfJvcVF"
   },
   "outputs": [],
   "source": [
    "tokenizer = get_tokenizer('basic_english')\n",
    "## We set the vocabulary size to 10K and includw two special tokens for unknow (<unk>) and padding (<pad>) tokens. \n",
    "vocab = build_vocab_from_iterator(map(lambda x: tokenizer(x[1]), IMDB_train), max_tokens=10000, specials=['<unk>','<pad>'])\n",
    "vocab.set_default_index(vocab['<unk>'])\n",
    "\n",
    "label2index = {'pos': 1, 'neg': 0}"
   ]
  },
  {
   "cell_type": "markdown",
   "metadata": {
    "id": "3H0lkU__D42f"
   },
   "source": [
    "Our vocabulary size is 10,000."
   ]
  },
  {
   "cell_type": "code",
   "execution_count": 6,
   "metadata": {
    "colab": {
     "base_uri": "https://localhost:8080/"
    },
    "id": "fjioQjE-vcVG",
    "outputId": "8b2ef973-4499-41fa-e75f-d5bc98f7c47c"
   },
   "outputs": [
    {
     "name": "stdout",
     "output_type": "stream",
     "text": [
      "10000\n"
     ]
    }
   ],
   "source": [
    "print(len(vocab))"
   ]
  },
  {
   "cell_type": "markdown",
   "metadata": {
    "id": "4yDjWTFuCi31"
   },
   "source": [
    "We want to break the full sentence into individual word tokens, and get them in a format our model can handle, here is a basic way to do it:"
   ]
  },
  {
   "cell_type": "code",
   "execution_count": 7,
   "metadata": {
    "id": "cXndiM5KvcVG"
   },
   "outputs": [],
   "source": [
    "from typing import List, Optional, Any, Union\n",
    "\n",
    "class default_tokenizer(nn.Module):\n",
    "    def __init__(self, tokenizer):\n",
    "        super().__init__()\n",
    "        self.tokenizer = tokenizer\n",
    "\n",
    "    def forward(self, input: Any) -> Any:\n",
    "        if torch.jit.isinstance(input, List[str]):\n",
    "            tokens: List[List[str]] = []\n",
    "            for text in input:\n",
    "                tokens.append(self.tokenizer(text))\n",
    "            return tokens\n",
    "        elif torch.jit.isinstance(input, str):\n",
    "            return self.tokenizer(input)\n",
    "        else:\n",
    "            raise TypeError(\"Input type not supported\")      "
   ]
  },
  {
   "cell_type": "markdown",
   "metadata": {
    "id": "lUiAQflqDQPy"
   },
   "source": [
    "For our text processing, we will use torchtext's Transforms to apply the tokenization and mapping to ID in sequence."
   ]
  },
  {
   "cell_type": "code",
   "execution_count": 8,
   "metadata": {
    "id": "dSvmYF_9vcVH"
   },
   "outputs": [],
   "source": [
    "import torchtext.transforms as T\n",
    "\n",
    "# prepare a container to host a sequence of text transforms. We use our vocabulary and set the maximal sequence\n",
    "# length to 128. The T.Sequential() will convert string words to ids.\n",
    "processor = T.Sequential(\n",
    "    default_tokenizer(tokenizer),\n",
    "    T.VocabTransform(vocab),\n",
    "    T.Truncate(128)\n",
    "    )\n",
    "\n",
    "# Transform labels from string names to ids.\n",
    "label_processor = T.Sequential(\n",
    "    T.LabelToIndex(['pos','neg'] ),\n",
    ")"
   ]
  },
  {
   "cell_type": "markdown",
   "metadata": {
    "id": "5-sn2igEFCpK"
   },
   "source": [
    "Now, we create a dataloader to generate batches. "
   ]
  },
  {
   "cell_type": "code",
   "execution_count": 9,
   "metadata": {
    "id": "xycvc45ovcVH"
   },
   "outputs": [],
   "source": [
    "from torch.utils.data import DataLoader\n",
    "from torch.nn.utils.rnn import pad_sequence\n",
    "\n",
    "def collate_batch(batch):\n",
    "    label_list, text_list = [], []\n",
    "    for (_label, _text) in batch:\n",
    "        label_list.append(label_processor(_label))\n",
    "        processed_text = torch.tensor(processor(_text))\n",
    "        text_list.append(processed_text)\n",
    "    return torch.tensor(label_list), pad_sequence(text_list, padding_value=vocab.__getitem__(\"<pad>\"))\n",
    "\n",
    "\n",
    "train_dataloader = DataLoader(list(IMDB_train), batch_size=16, shuffle=True, \n",
    "                              collate_fn=collate_batch)\n",
    "dev_dataloader = DataLoader(list(IMDB_dev), batch_size=16, shuffle=False, \n",
    "                              collate_fn=collate_batch)"
   ]
  },
  {
   "cell_type": "markdown",
   "metadata": {
    "id": "uTyiOKGfEUlh"
   },
   "source": [
    "As we memtioned in previous tutorial, we can find that first element is a tensor of labels with a size of `[batch_size]` and the second element is a tensor of input sequences with a size of `[length, batch_size]`."
   ]
  },
  {
   "cell_type": "code",
   "execution_count": 10,
   "metadata": {
    "colab": {
     "base_uri": "https://localhost:8080/"
    },
    "id": "lEf17wLwvcVH",
    "outputId": "8ce3aea6-2b88-4320-9eb7-a478bd5a0f08"
   },
   "outputs": [
    {
     "name": "stdout",
     "output_type": "stream",
     "text": [
      "(tensor([1, 0, 0, 0, 1, 1, 1, 0, 1, 0, 0, 0, 1, 0, 1, 1]), tensor([[3334,  320, 3594,  ...,   46,  607,   14],\n",
      "        [ 132,   23,   78,  ...,   17, 2141,   21],\n",
      "        [  34,   15,  824,  ...,    6,   21,    0],\n",
      "        ...,\n",
      "        [4465,   20,  150,  ...,    0,    0,   88],\n",
      "        [ 420,   11,  824,  ...,  405,  144,  278],\n",
      "        [   0,    4,    3,  ..., 8146,   25,   89]]))\n",
      "torch.Size([16])\n",
      "torch.Size([128, 16])\n"
     ]
    }
   ],
   "source": [
    "for item in train_dataloader:\n",
    "    print(item)\n",
    "    print(item[0].shape)\n",
    "    print(item[1].shape)\n",
    "    break"
   ]
  },
  {
   "cell_type": "markdown",
   "metadata": {
    "id": "8p0Rq26eIrWd"
   },
   "source": [
    "### Modules in RNN for text classification:\n",
    "1. Embedding layer\n",
    "2. RNN layer\n",
    "3. Classification layer"
   ]
  },
  {
   "cell_type": "markdown",
   "metadata": {
    "id": "Zd9O2HOYJ3Z7"
   },
   "source": [
    "1. Embedding layer: The ``Embedding`` layer will encode each word in the vocabulary by a vector. Now, we will need to tell it what size we want for that vector. Popular values for a vector size are usally between 100-300 for many tasks. Let's set it to 300 dimensions. (You are encouraged to play with this value as practice). All words in the vocabulary will have the same embedding size. Let's put that hyper-parameter in a variable ``WORD_VEC_SIZE``:"
   ]
  },
  {
   "cell_type": "code",
   "execution_count": 11,
   "metadata": {
    "id": "js37C_huJ5bl"
   },
   "outputs": [],
   "source": [
    "WORD_VEC_SIZE= 300"
   ]
  },
  {
   "cell_type": "markdown",
   "metadata": {
    "id": "ga2TYH18KAVN"
   },
   "source": [
    "We are now ready to call the ``Embedding`` class to construct an embeddings tensor:"
   ]
  },
  {
   "cell_type": "code",
   "execution_count": 12,
   "metadata": {
    "colab": {
     "base_uri": "https://localhost:8080/"
    },
    "id": "8a7XR3HCJ7zI",
    "outputId": "bee9651a-9b6d-44b2-ceae-a57d5755fbc2"
   },
   "outputs": [
    {
     "name": "stdout",
     "output_type": "stream",
     "text": [
      "torch.Size([128, 16, 300])\n"
     ]
    }
   ],
   "source": [
    "# Constructing an embedding Layer:\n",
    "embedding = nn.Embedding(len(vocab), WORD_VEC_SIZE)\n",
    "\n",
    "# apply the embedding layer on the input of the fist batch \n",
    "input = item[1]\n",
    "embedded=embedding(input)\n",
    "print(embedded.shape) "
   ]
  },
  {
   "cell_type": "markdown",
   "metadata": {
    "id": "aYFN_-VSKS-2"
   },
   "source": [
    "After the word embedding layer, the input batch is a tenor of `[sequence length, batch size, embedding size]`.\n"
   ]
  },
  {
   "cell_type": "markdown",
   "metadata": {
    "id": "WixGlGsVKnfh"
   },
   "source": [
    "2. RNN layer: PyTorch has ``torch.nn.RNN`` module that implements the vanilla (Elman) RNN with *tanh* or *ReLU* non-linearity. The documentation for this module is [here](https://pytorch.org/docs/stable/nn.html#torch.nn.RNN). Let us contine using the firt sample batch to understand this module."
   ]
  },
  {
   "cell_type": "markdown",
   "metadata": {
    "id": "giqHZrHRLNzO"
   },
   "source": [
    "We define a single RNN layer with a hidden size of 50. The input_size is equal to the embedding size that is 300 in our example. "
   ]
  },
  {
   "cell_type": "code",
   "execution_count": 13,
   "metadata": {
    "id": "tcUkSZbiLBC9"
   },
   "outputs": [],
   "source": [
    "\"\"\"\n",
    "define the RNN module\n",
    "\"\"\"\n",
    "# first input - number of dimesnions for word vectors for a vector x (300, size of the word embedding)\n",
    "# second input - number of nodes in hidden state h_t (50, size of the hidden layer)\n",
    "# third input - number of recurrent layers (we set it to 1)\n",
    "rnn_layer = nn.RNN(input_size=300, hidden_size=50, num_layers=1) # input_size, hidden_size, num_layers"
   ]
  },
  {
   "cell_type": "markdown",
   "metadata": {
    "id": "HzRXwf-RL_Zt"
   },
   "source": [
    "We will now pass the ``embedded`` tensor (representations of words in our batch) to RNN. "
   ]
  },
  {
   "cell_type": "code",
   "execution_count": 14,
   "metadata": {
    "id": "cnboJFDUL-zb"
   },
   "outputs": [],
   "source": [
    "\"\"\"\n",
    "forward propagation over the RNN model\n",
    "\"\"\"\n",
    "rnn_output, hn = rnn_layer(embedded)"
   ]
  },
  {
   "cell_type": "markdown",
   "metadata": {
    "id": "D9yEcN8dMWUh"
   },
   "source": [
    "But what is ``rnn_output``? Well, let's inspect its shape first:"
   ]
  },
  {
   "cell_type": "code",
   "execution_count": 15,
   "metadata": {
    "colab": {
     "base_uri": "https://localhost:8080/"
    },
    "id": "0ZpDoRA9MQC_",
    "outputId": "e939933a-c18e-43a0-a889-c2c5a6ec5862"
   },
   "outputs": [
    {
     "name": "stdout",
     "output_type": "stream",
     "text": [
      "rnn_output size:  torch.Size([128, 16, 50])\n"
     ]
    }
   ],
   "source": [
    "# output = seq_len, batch, hidden_size (output features from last layer of RNN)\n",
    "print(\"rnn_output size: \", rnn_output.size())"
   ]
  },
  {
   "cell_type": "markdown",
   "metadata": {
    "id": "C5mF33cEMbh1"
   },
   "source": [
    "Here's what we need to know about ``output``:\n",
    "- The first dimension in the ``output`` tensor is the ``sequence length`` (=128). \n",
    "- The second dimension is ``batch_size`` (the number of examples/sentences in our batch = 16).\n",
    "- The third dimension is the ``size of nodes/units`` in our hidden layer (=50). "
   ]
  },
  {
   "cell_type": "markdown",
   "metadata": {
    "id": "mQreyxqkMsv4"
   },
   "source": [
    "Here's what we need to know about ``hn``:\n",
    "- ``hn`` is a tensor of shape `[num_layers, batch size, hidden size]` containing the hidden state for the last ``time step`` \n",
    "(``t = max_seq_length``)."
   ]
  },
  {
   "cell_type": "code",
   "execution_count": 16,
   "metadata": {
    "colab": {
     "base_uri": "https://localhost:8080/"
    },
    "id": "CYGIUZhIM078",
    "outputId": "cad6fd1f-9c64-492d-af7c-fd0916bb6a16"
   },
   "outputs": [
    {
     "name": "stdout",
     "output_type": "stream",
     "text": [
      "last hidden state size:  torch.Size([1, 16, 50])\n"
     ]
    }
   ],
   "source": [
    "# h_n = num_layers, batch, hidden_size (hidden state for t=seq_len or hidden state at last timestep)\n",
    "print(\"last hidden state size: \", hn.size())"
   ]
  },
  {
   "cell_type": "markdown",
   "metadata": {
    "id": "rZvbwjpPNMTo"
   },
   "source": [
    "You can take the output representation for a text sequence after processing the last token (t=seq_len or last timestep) and call the resulting representation as the tweet representation that **\"summarizes\" the information present** in the text. This text representation can further be used for the text classification.\n",
    "\n",
    "Let us compute the final tweet representation:"
   ]
  },
  {
   "cell_type": "code",
   "execution_count": 17,
   "metadata": {
    "colab": {
     "base_uri": "https://localhost:8080/"
    },
    "id": "juZKQvXiNqjH",
    "outputId": "34ed4551-44da-46c8-89c8-9bf263a2871b"
   },
   "outputs": [
    {
     "name": "stdout",
     "output_type": "stream",
     "text": [
      "text output embeddings size:  torch.Size([16, 50])\n"
     ]
    }
   ],
   "source": [
    "text_output_embeddings = rnn_output[-1,:,:] # -1 fetches the embeddings from the last timestep\n",
    "print(\"text output embeddings size: \", text_output_embeddings.size())\n",
    "# first dimension - number of tweets in the batch (16)\n",
    "# second dimension - number of features in hidden state h_t (50, size of the hidden layer)"
   ]
  },
  {
   "cell_type": "code",
   "execution_count": 18,
   "metadata": {
    "id": "O5HHm0KQQbYr"
   },
   "outputs": [],
   "source": [
    "## Apply a ReLU non-linearity\n",
    "activation_fn = nn.ReLU()\n",
    "text_output_embeddings = activation_fn(text_output_embeddings)"
   ]
  },
  {
   "cell_type": "markdown",
   "metadata": {
    "id": "M2bOxt2YOK-s"
   },
   "source": [
    "3. Classification layer: Finanlly, we pass the text representation (i.e., `text_output_embeddings`) through a feed-forward layer with a softmax activation function for the classification task. The input size is the hidden size of the text representation. The output dimension must be the size of the label set (i.e., 2 for our task)."
   ]
  },
  {
   "cell_type": "code",
   "execution_count": 19,
   "metadata": {
    "id": "C1LisyD7OlOR"
   },
   "outputs": [],
   "source": [
    "output_linear_layer = nn.Linear(50, 2) \n",
    "softmax_layer = nn.Softmax(dim=1) \n",
    "# Softmax normalizes vectors along the class dimension so they can represent probabilities"
   ]
  },
  {
   "cell_type": "code",
   "execution_count": 20,
   "metadata": {
    "id": "UUAnDeg4Pl37"
   },
   "outputs": [],
   "source": [
    "logit = output_linear_layer(text_output_embeddings)\n",
    "prob_out = softmax_layer(logit)"
   ]
  },
  {
   "cell_type": "markdown",
   "metadata": {
    "id": "AGRw_M4AP8nx"
   },
   "source": [
    "Finally, the prediction output is a tenor of `[batch size, number of classes]`. "
   ]
  },
  {
   "cell_type": "code",
   "execution_count": 21,
   "metadata": {
    "colab": {
     "base_uri": "https://localhost:8080/"
    },
    "id": "PpRXcef6P8-J",
    "outputId": "a5501fd8-3187-4c6a-c621-4a5a8069ba59"
   },
   "outputs": [
    {
     "name": "stdout",
     "output_type": "stream",
     "text": [
      "torch.Size([16, 2])\n",
      "tensor([0.4834, 0.5166], grad_fn=<SelectBackward0>)\n"
     ]
    }
   ],
   "source": [
    "print(prob_out.shape)\n",
    "print(prob_out[0])"
   ]
  },
  {
   "cell_type": "markdown",
   "metadata": {
    "id": "2PBvaAO3z8Wk"
   },
   "source": [
    "#### Calculating Loss: We now use [`CrossEntropyLoss()`](https://pytorch.org/docs/stable/generated/torch.nn.CrossEntropyLoss.html) loss function to calculate the loss of the first batch. "
   ]
  },
  {
   "cell_type": "code",
   "execution_count": 22,
   "metadata": {
    "colab": {
     "base_uri": "https://localhost:8080/"
    },
    "id": "YXJcaUhVzjkj",
    "outputId": "8a0e94e2-2962-44b7-cae3-dfc126c96808"
   },
   "outputs": [
    {
     "data": {
      "text/plain": [
       "tensor(0.6962, grad_fn=<NllLossBackward0>)"
      ]
     },
     "execution_count": 22,
     "metadata": {},
     "output_type": "execute_result"
    }
   ],
   "source": [
    "criteria = nn.CrossEntropyLoss()\n",
    "criteria(prob_out, item[0])"
   ]
  },
  {
   "cell_type": "markdown",
   "metadata": {
    "id": "XwyeZQRuSj5G"
   },
   "source": [
    "### Train a RNN with the whole dataset"
   ]
  },
  {
   "cell_type": "markdown",
   "metadata": {
    "id": "YIj0cAhSFRKO"
   },
   "source": [
    "Let's re-use our training code from earlier:"
   ]
  },
  {
   "cell_type": "code",
   "execution_count": 23,
   "metadata": {
    "id": "iJc8M15vvcVI"
   },
   "outputs": [],
   "source": [
    "from sklearn.metrics import accuracy_score \n",
    "\n",
    "def train(loader, model, criterion, optimizer, device):\n",
    "    total_loss = 0.0\n",
    "    num_sample = 0\n",
    "    for batch in loader:\n",
    "        # load the current batch\n",
    "        batch_output, batch_input = batch  #unpack the batch\n",
    "\n",
    "        batch_input = batch_input.to(device)\n",
    "        batch_output = batch_output.to(device)\n",
    "        # forward propagation\n",
    "        # pass the data through the model\n",
    "        model_outputs = model(batch_input)\n",
    "        # compute the loss\n",
    "        cur_loss = criterion(model_outputs, batch_output)\n",
    "        total_loss += cur_loss.item()\n",
    "\n",
    "        # backward propagation (compute the gradients and update the model)\n",
    "        # clear the buffer\n",
    "        optimizer.zero_grad()\n",
    "        # compute the gradients\n",
    "        cur_loss.backward()\n",
    "        # update the weights\n",
    "        optimizer.step()\n",
    "        num_sample += batch_output.shape[0]\n",
    "    return total_loss / num_sample\n",
    "\n",
    "\n",
    "# evaluation logic based on classification accuracy\n",
    "def evaluate(loader, model, device):\n",
    "    all_pred = []\n",
    "    all_label = []\n",
    "    with torch.no_grad():\n",
    "        for batch in loader:\n",
    "            # load the current batch\n",
    "            batch_output, batch_input = batch\n",
    "\n",
    "            batch_input = batch_input.to(device)\n",
    "            # forward propagation\n",
    "            # pass the data through the model\n",
    "            model_outputs = model(batch_input)\n",
    "            # identify the predicted class for each example in the batch\n",
    "            probabilities, predicted = torch.max(model_outputs.cpu().data, 1)\n",
    "            # put all the true labels and predictions to two lists\n",
    "            all_pred.extend(predicted)\n",
    "            all_label.extend(batch_output)\n",
    "\n",
    "    accuracy = accuracy_score(all_label, all_pred)\n",
    "    return accuracy\n"
   ]
  },
  {
   "cell_type": "markdown",
   "metadata": {
    "id": "efV42dKuFuBK"
   },
   "source": [
    "#### Model class object\n",
    "\n",
    "We initialize the modules of a RNN and define its computation forward graph. "
   ]
  },
  {
   "cell_type": "code",
   "execution_count": 24,
   "metadata": {
    "id": "RWqySc31vcVI"
   },
   "outputs": [],
   "source": [
    "\"\"\"\n",
    "create a model for RNN\n",
    "\"\"\"\n",
    "class RNNmodel(nn.Module):\n",
    "  \n",
    "  def __init__(self, embedding_size, vocab_size, output_size, hidden_size, num_layers):\n",
    "    # In the constructor we define the layers for our model\n",
    "    super(RNNmodel, self).__init__()\n",
    "    # word embedding lookup table\n",
    "    self.embedding = nn.Embedding(num_embeddings=vocab_size, embedding_dim=embedding_size)\n",
    "    # core RNN module\n",
    "    self.rnn_layer = nn.RNN(input_size=embedding_size, hidden_size=hidden_size, num_layers=num_layers) \n",
    "    # activation function\n",
    "    self.activation_fn = nn.ReLU()\n",
    "    # classification related modules\n",
    "    self.output_linear_layer = nn.Linear(hidden_size, output_size) \n",
    "    self.softmax_layer = nn.Softmax(dim=1)\n",
    "  \n",
    "  def forward(self, x):\n",
    "    # In the forward function we define the forward propagation logic\n",
    "    embedded = self.embedding(x)\n",
    "    rnn_output, hn = self.rnn_layer(embedded) # since we are not feeding h_0 explicitly, h_0 will be initialized to zeros by default\n",
    "    # classify based on the hidden representation after RNN processes the last token\n",
    "    text_output_embeddings = rnn_output[-1, :, :]\n",
    "    text_output_embeddings = self.activation_fn(text_output_embeddings)\n",
    "    logit = self.output_linear_layer(text_output_embeddings)\n",
    "    prob_out = self.softmax_layer(logit) # Softmax normalizes vectors so they can represent probabilities\n",
    "    \n",
    "    return prob_out"
   ]
  },
  {
   "cell_type": "markdown",
   "metadata": {
    "id": "VVkDoYgGF_oH"
   },
   "source": [
    "#### Instantiate our RNN model\n",
    "\n",
    "We define the hyper-parameters of a RNN model and instantiate it. We then create the loss function and optimization method for back-propagation."
   ]
  },
  {
   "cell_type": "code",
   "execution_count": 25,
   "metadata": {
    "id": "pQlV3I6evcVI"
   },
   "outputs": [],
   "source": [
    "# set the seed\n",
    "manual_seed = 123\n",
    "torch.manual_seed(manual_seed)\n",
    "device = torch.device(\"cuda\" if torch.cuda.is_available() else \"cpu\")\n",
    "n_gpu = torch.cuda.device_count()\n",
    "if n_gpu > 0:\n",
    "    torch.cuda.manual_seed(manual_seed)\n",
    "\n",
    "# hyperparameters\n",
    "MAX_EPOCHS = 30\n",
    "LEARNING_RATE = 0.1\n",
    "NUM_CLASSES = 2\n",
    "WORD_VEC_SIZE = 300\n",
    "\n",
    "# hyperparameters of RNN\n",
    "HIDDEN_SIZE = 50\n",
    "NUM_LAYERS = 1"
   ]
  },
  {
   "cell_type": "code",
   "execution_count": 26,
   "metadata": {
    "id": "0hSwyA0WvcVJ"
   },
   "outputs": [],
   "source": [
    "# define the model\n",
    "model = RNNmodel(WORD_VEC_SIZE, len(vocab), NUM_CLASSES, HIDDEN_SIZE, NUM_LAYERS) \n",
    "model.to(device)\n",
    "# define the loss function (last node of the graph)\n",
    "criteria = nn.CrossEntropyLoss()\n",
    "optimizer = torch.optim.SGD(model.parameters(), lr=LEARNING_RATE)"
   ]
  },
  {
   "cell_type": "markdown",
   "metadata": {
    "id": "dJpt69UTGm0e"
   },
   "source": [
    "Before we train, let's look a little bit more at our model:"
   ]
  },
  {
   "cell_type": "code",
   "execution_count": 27,
   "metadata": {
    "colab": {
     "base_uri": "https://localhost:8080/"
    },
    "id": "g8qfgQXgGmhw",
    "outputId": "6d713265-cef4-423d-f68b-ba2035c5c566"
   },
   "outputs": [
    {
     "name": "stdout",
     "output_type": "stream",
     "text": [
      "The entire model looks like this: \n",
      "RNNmodel(\n",
      "  (embedding): Embedding(10000, 300)\n",
      "  (rnn_layer): RNN(300, 50)\n",
      "  (activation_fn): ReLU()\n",
      "  (output_linear_layer): Linear(in_features=50, out_features=2, bias=True)\n",
      "  (softmax_layer): Softmax(dim=1)\n",
      ")\n"
     ]
    }
   ],
   "source": [
    "print(\"The entire model looks like this: \")\n",
    "print(model)"
   ]
  },
  {
   "cell_type": "code",
   "execution_count": 28,
   "metadata": {
    "colab": {
     "base_uri": "https://localhost:8080/"
    },
    "id": "MbZy9xaMvcVJ",
    "outputId": "19ab0cfa-633f-4449-c3fc-ecd3d4674c41"
   },
   "outputs": [
    {
     "name": "stdout",
     "output_type": "stream",
     "text": [
      "Epoch 1 results: Loss 0.04348437851667404, Train Acc: 0.5426666666666666, Val Acc: 0.5115\n",
      "Epoch 2 results: Loss 0.04316027115980784, Train Acc: 0.5464, Val Acc: 0.5127\n",
      "Epoch 3 results: Loss 0.04274950860738754, Train Acc: 0.5930666666666666, Val Acc: 0.5225\n",
      "Epoch 4 results: Loss 0.042166907087961836, Train Acc: 0.6117333333333334, Val Acc: 0.5211\n",
      "Epoch 5 results: Loss 0.04155435821612676, Train Acc: 0.645, Val Acc: 0.5258\n",
      "Epoch 6 results: Loss 0.04079908226927122, Train Acc: 0.6567333333333333, Val Acc: 0.5364\n",
      "Epoch 7 results: Loss 0.04003157585859299, Train Acc: 0.6681333333333334, Val Acc: 0.5302\n",
      "Epoch 8 results: Loss 0.03935043823122978, Train Acc: 0.6987333333333333, Val Acc: 0.5341\n",
      "Epoch 9 results: Loss 0.03858729357719421, Train Acc: 0.7048, Val Acc: 0.5344\n",
      "Epoch 10 results: Loss 0.03800934056242307, Train Acc: 0.6915333333333333, Val Acc: 0.5218\n",
      "Epoch 11 results: Loss 0.0373943032681942, Train Acc: 0.7280666666666666, Val Acc: 0.5299\n",
      "Epoch 12 results: Loss 0.03675204685529073, Train Acc: 0.7276666666666667, Val Acc: 0.5328\n",
      "Epoch 13 results: Loss 0.03630959044893583, Train Acc: 0.7390666666666666, Val Acc: 0.5303\n",
      "Epoch 14 results: Loss 0.03574542198578517, Train Acc: 0.7563333333333333, Val Acc: 0.532\n",
      "Epoch 15 results: Loss 0.03542217492262523, Train Acc: 0.7555333333333333, Val Acc: 0.5261\n",
      "Epoch 16 results: Loss 0.03489875663518906, Train Acc: 0.7585333333333333, Val Acc: 0.5274\n",
      "Epoch 17 results: Loss 0.03465135489503542, Train Acc: 0.7750666666666667, Val Acc: 0.5328\n",
      "Epoch 18 results: Loss 0.034302022115389505, Train Acc: 0.7787333333333334, Val Acc: 0.5363\n",
      "Epoch 19 results: Loss 0.034243950988849005, Train Acc: 0.7624666666666666, Val Acc: 0.517\n",
      "Epoch 20 results: Loss 0.03400447563926379, Train Acc: 0.7828666666666667, Val Acc: 0.5351\n",
      "Epoch 21 results: Loss 0.03363930536905924, Train Acc: 0.7823333333333333, Val Acc: 0.5334\n",
      "Epoch 22 results: Loss 0.03367765459616979, Train Acc: 0.7815333333333333, Val Acc: 0.5271\n",
      "Epoch 23 results: Loss 0.03340102941393852, Train Acc: 0.7904666666666667, Val Acc: 0.5371\n",
      "Epoch 24 results: Loss 0.03307637646794319, Train Acc: 0.8015333333333333, Val Acc: 0.5347\n",
      "Epoch 25 results: Loss 0.03296967048048973, Train Acc: 0.7857333333333333, Val Acc: 0.5388\n",
      "Epoch 26 results: Loss 0.03282808810869853, Train Acc: 0.7999333333333334, Val Acc: 0.5308\n",
      "Epoch 27 results: Loss 0.032733520569403964, Train Acc: 0.804, Val Acc: 0.5387\n",
      "Epoch 28 results: Loss 0.032439461408058805, Train Acc: 0.8065333333333333, Val Acc: 0.54\n",
      "Epoch 29 results: Loss 0.03242208670973778, Train Acc: 0.7968, Val Acc: 0.5317\n",
      "Epoch 30 results: Loss 0.0323840444068114, Train Acc: 0.8008666666666666, Val Acc: 0.5409\n"
     ]
    }
   ],
   "source": [
    "results = {\"epoch\": [], \"loss\" : [], \"train acc\" : [], \"val acc\" :[]}\n",
    "for i in range(MAX_EPOCHS):\n",
    "    loss = train(train_dataloader, model, criteria, optimizer, device)\n",
    "    train_acc = evaluate(train_dataloader, model, device)\n",
    "    val_acc = evaluate(dev_dataloader, model, device)\n",
    "    results[\"epoch\"].append(i)\n",
    "    results[\"loss\"].append(loss)\n",
    "    results['train acc'].append(train_acc)\n",
    "    results['val acc'].append(val_acc)\n",
    "    \n",
    "    print(\"Epoch {} results: Loss {}, Train Acc: {}, Val Acc: {}\".format(i+1, loss, train_acc, val_acc))\n"
   ]
  },
  {
   "cell_type": "code",
   "execution_count": 29,
   "metadata": {
    "id": "tWSws7qEvcVJ"
   },
   "outputs": [],
   "source": [
    "import matplotlib.pyplot as plt\n",
    "import numpy as np"
   ]
  },
  {
   "cell_type": "code",
   "execution_count": 30,
   "metadata": {
    "colab": {
     "base_uri": "https://localhost:8080/",
     "height": 283
    },
    "id": "bluSa764vcVJ",
    "outputId": "97fcfb8c-2f6d-4e34-9221-b69d4e2b362e"
   },
   "outputs": [
    {
     "data": {
      "image/png": "[encoded data removed]",
      "text/plain": [
       "<Figure size 432x288 with 2 Axes>"
      ]
     },
     "metadata": {
      "needs_background": "light"
     },
     "output_type": "display_data"
    }
   ],
   "source": [
    "fig, ax1 = plt.subplots()\n",
    "\n",
    "color = 'tab:red'\n",
    "loss_line, = ax1.plot(results[\"epoch\"],results[\"loss\"], linewidth=1.0, color=color, label= \"loss\")\n",
    "ax1.set(xlim=(0, 30), xticks=np.arange(0, 30, 5),\n",
    "       ylim=(0.03, 0.05))                                 \n",
    "ax1.set_ylabel('loss', color=color)                             \n",
    "ax1.set_xlabel('epochs')\n",
    "ax2 = ax1.twinx()\n",
    "\n",
    "\n",
    "train_line, = ax2.plot(results[\"epoch\"],results[\"train acc\"], linewidth=1.0, label='train acc')\n",
    "val_line, = ax2.plot(results[\"epoch\"],results[\"val acc\"], linewidth=1.0, label='val acc')\n",
    "ax2.set(xlim=(0, 30), xticks=np.arange(0, 30, 5),\n",
    "       ylim=(0.5, 1))\n",
    "ax2.set_ylabel('accuracy')\n",
    "\n",
    "p = [val_line, train_line, loss_line]\n",
    "ax2.legend(p, [p_.get_label() for p_ in p])\n",
    "\n",
    "plt.show()"
   ]
  },
  {
   "cell_type": "markdown",
   "metadata": {
    "id": "8V-7bPhavcVK"
   },
   "source": [
    "## GRUs\n",
    "\n",
    "Gated Recurrent Units (GRUs) are a variant of RNNs that use more complex units for activation. They are created to have more persistent memory thereby making them easier for RNNs to capture long-term dependencies. To learn the theory behind GRUs, we recommend: https://github.com/UBC-NLP/dlnlp2019/blob/master/slides/RNN.pdf \n",
    "\n",
    "GRU is defined by ``torch.nn.GRU`` module and its documentation can be fetched [here](https://pytorch.org/docs/stable/nn.html#torch.nn.GRU). Now let us define the GRU module."
   ]
  },
  {
   "cell_type": "code",
   "execution_count": 31,
   "metadata": {
    "id": "jcNkXTgwvcVK"
   },
   "outputs": [],
   "source": [
    "\"\"\"\n",
    "define the GRU module\n",
    "\"\"\"\n",
    "# first input - number of word vector dimensions/embeddings\n",
    "# second input - number of nodes in hidden layer (50, size of the hidden layer)\n",
    "# third input - number of recurrent layers (2)\n",
    "gru_rnn = nn.GRU(input_size=300, hidden_size=50, num_layers=1) # input_size, hidden_size, num_layers"
   ]
  },
  {
   "cell_type": "markdown",
   "metadata": {
    "id": "sm99BCQKvcVK"
   },
   "source": [
    "Similar to RNN, GRU module takes two inputs: *the initial hidden state for each element in the batch* (t=0) and the *input features* (``tweet_input_embeddings`` in our case).\n",
    "\n",
    "Let us feed the sequence embeddings to our GRU model."
   ]
  },
  {
   "cell_type": "code",
   "execution_count": 32,
   "metadata": {
    "id": "c-MvvT6NvcVK"
   },
   "outputs": [],
   "source": [
    "\"\"\"\n",
    "forward propagation over the GRU model\n",
    "\"\"\"\n",
    "output, hn = gru_rnn(embedded)"
   ]
  },
  {
   "cell_type": "code",
   "execution_count": 33,
   "metadata": {
    "colab": {
     "base_uri": "https://localhost:8080/"
    },
    "id": "HCZFMddxUKvd",
    "outputId": "8504b62b-9e2e-493f-fe04-fe008afb9043"
   },
   "outputs": [
    {
     "name": "stdout",
     "output_type": "stream",
     "text": [
      "output size:  torch.Size([128, 16, 50])\n",
      "last hidden state size:  torch.Size([1, 16, 50])\n"
     ]
    }
   ],
   "source": [
    "# output = seq_len, batch, hidden_size (output features from last layer of GRU)\n",
    "print(\"output size: \", output.size())\n",
    "\n",
    "# h_n = num_layers, batch, hidden_size (hidden state for t=seq_len or hidden state at last timestep)\n",
    "print(\"last hidden state size: \", hn.size())"
   ]
  },
  {
   "cell_type": "markdown",
   "metadata": {
    "id": "TT0qmUtAvcVM"
   },
   "source": [
    "## LSTMs\n",
    "\n",
    "Long short-term memory (LSTMs) are a variant of RNNs that use more complex units for activation. Similar to the spirit of GRU, they are created to have more persistent memory thereby making them easier for RNNs to capture long-term dependencies. To learn the theory behind GRUs, we recommend: https://github.com/UBC-NLP/dlnlp2019/blob/master/slides/RNN.pdf \n",
    "\n",
    "LSTM is defined by ``torch.nn.LSTM`` module and its documentation can be fetched [here](https://pytorch.org/docs/stable/nn.html#torch.nn.LSTM). Now let us define the LSTM module."
   ]
  },
  {
   "cell_type": "code",
   "execution_count": 34,
   "metadata": {
    "id": "SfXmvr0kvcVM"
   },
   "outputs": [],
   "source": [
    "\"\"\"\n",
    "define the LSTM module\n",
    "\"\"\"\n",
    "# first input - number of features in x (300, size of the word embedding)\n",
    "# second input - number of number of nodes in a hidden layer (50)\n",
    "# third input - number of recurrent layers (2)\n",
    "lstm_rnn = nn.LSTM(input_size=300, hidden_size=50, num_layers=2) # input_size, hidden_size, num_layers"
   ]
  },
  {
   "cell_type": "markdown",
   "metadata": {
    "id": "YPCTyyX8vcVN"
   },
   "source": [
    "Let us feed the sequence embeddings to our LSTM model. Unlike RNN and GRU, LSTM module has three output: `output, hn, and cn`."
   ]
  },
  {
   "cell_type": "code",
   "execution_count": 35,
   "metadata": {
    "id": "RFSCBlzHvcVN"
   },
   "outputs": [],
   "source": [
    "\"\"\"\n",
    "forward propagation over the LSTM model\n",
    "\"\"\"\n",
    "output, (hn, cn) = lstm_rnn(embedded)"
   ]
  },
  {
   "cell_type": "markdown",
   "metadata": {
    "id": "PtbdPFNgT1Hi"
   },
   "source": [
    "``output`` tensor contains the output features $h_t$ from the last layer of the LSTM"
   ]
  },
  {
   "cell_type": "code",
   "execution_count": 36,
   "metadata": {
    "colab": {
     "base_uri": "https://localhost:8080/"
    },
    "id": "Pdf-po_JTz2M",
    "outputId": "69a20bdb-956c-4189-aec1-4ab142c76847"
   },
   "outputs": [
    {
     "name": "stdout",
     "output_type": "stream",
     "text": [
      "output size:  torch.Size([128, 16, 50])\n"
     ]
    }
   ],
   "source": [
    "# output = seq_len, batch_size, hidden_size (output features from last layer of LSTM)\n",
    "print(\"output size: \", output.size())"
   ]
  },
  {
   "cell_type": "markdown",
   "metadata": {
    "id": "bd3lx5ywT5jk"
   },
   "source": [
    "``hn`` is a tensor of shape `[num_layers, batch size, hidden_size]` containing the hidden state for t = seq_len"
   ]
  },
  {
   "cell_type": "code",
   "execution_count": 37,
   "metadata": {
    "colab": {
     "base_uri": "https://localhost:8080/"
    },
    "id": "JrS5UHZlT3ME",
    "outputId": "273c8d93-5b87-42ef-8ace-07c79771e19f"
   },
   "outputs": [
    {
     "name": "stdout",
     "output_type": "stream",
     "text": [
      "last hidden state size:  torch.Size([2, 16, 50])\n"
     ]
    }
   ],
   "source": [
    "# h_n = num_layers, batch, hidden_size (hidden state for t=seq_len or hidden state at last timestep)\n",
    "print(\"last hidden state size: \", hn.size())"
   ]
  },
  {
   "cell_type": "markdown",
   "metadata": {
    "id": "-Zezmv1CUAoZ"
   },
   "source": [
    "``cn`` is a tensor of shape (num_layers, batch, hidden_size) containing the cell state for t = seq_len."
   ]
  },
  {
   "cell_type": "code",
   "execution_count": 38,
   "metadata": {
    "colab": {
     "base_uri": "https://localhost:8080/"
    },
    "id": "AyLPZAx1UABg",
    "outputId": "a582e907-f8d5-4a4a-99fb-ee6791e008c4"
   },
   "outputs": [
    {
     "name": "stdout",
     "output_type": "stream",
     "text": [
      "last cell state size:  torch.Size([2, 16, 50])\n"
     ]
    }
   ],
   "source": [
    "# c_n = num_layers, batch_size, hidden_size (cell state for t=seq_len or cell state at last timestep)\n",
    "print(\"last cell state size: \", hn.size())"
   ]
  },
  {
   "cell_type": "code",
   "execution_count": 38,
   "metadata": {
    "id": "7z9ze-54UEW3"
   },
   "outputs": [],
   "source": []
  }
 ],
 "metadata": {
  "accelerator": "GPU",
  "colab": {
   "collapsed_sections": [],
   "name": "RNN.ipynb",
   "provenance": []
  },
  "kernelspec": {
   "display_name": "Python 3",
   "language": "python",
   "name": "python3"
  },
  "language_info": {
   "codemirror_mode": {
    "name": "ipython",
    "version": 3
   },
   "file_extension": ".py",
   "mimetype": "text/x-python",
   "name": "python",
   "nbconvert_exporter": "python",
   "pygments_lexer": "ipython3",
   "version": "3.7.3"
  }
 },
 "nbformat": 4,
 "nbformat_minor": 1
}
